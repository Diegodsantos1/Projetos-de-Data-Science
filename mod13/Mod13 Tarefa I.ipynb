{
 "cells": [
  {
   "cell_type": "markdown",
   "metadata": {},
   "source": [
    "# EBAC - Regressão II - regressão múltipla\n",
    "\n",
    "## Tarefa I"
   ]
  },
  {
   "cell_type": "markdown",
   "metadata": {},
   "source": [
    "#### Previsão de renda\n",
    "\n",
    "Vamos trabalhar com a base 'previsao_de_renda.csv', que é a base do seu próximo projeto. Vamos usar os recursos que vimos até aqui nesta base.\n",
    "\n",
    "|variavel|descrição|\n",
    "|-|-|\n",
    "|data_ref                | Data de referência de coleta das variáveis |\n",
    "|index                   | Código de identificação do cliente|\n",
    "|sexo                    | Sexo do cliente|\n",
    "|posse_de_veiculo        | Indica se o cliente possui veículo|\n",
    "|posse_de_imovel         | Indica se o cliente possui imóvel|\n",
    "|qtd_filhos              | Quantidade de filhos do cliente|\n",
    "|tipo_renda              | Tipo de renda do cliente|\n",
    "|educacao                | Grau de instrução do cliente|\n",
    "|estado_civil            | Estado civil do cliente|\n",
    "|tipo_residencia         | Tipo de residência do cliente (própria, alugada etc)|\n",
    "|idade                   | Idade do cliente|\n",
    "|tempo_emprego           | Tempo no emprego atual|\n",
    "|qt_pessoas_residencia   | Quantidade de pessoas que moram na residência|\n",
    "|renda                   | Renda em reais|"
   ]
  },
  {
   "cell_type": "code",
   "execution_count": 1,
   "metadata": {},
   "outputs": [],
   "source": [
    "import pandas as pd"
   ]
  },
  {
   "cell_type": "code",
   "execution_count": 2,
   "metadata": {},
   "outputs": [],
   "source": [
    "df = pd.read_csv('previsao_de_renda.csv')"
   ]
  },
  {
   "cell_type": "code",
   "execution_count": 3,
   "metadata": {},
   "outputs": [],
   "source": [
    "df.dropna(axis=0 , inplace = True)"
   ]
  },
  {
   "cell_type": "code",
   "execution_count": 4,
   "metadata": {},
   "outputs": [
    {
     "name": "stdout",
     "output_type": "stream",
     "text": [
      "<class 'pandas.core.frame.DataFrame'>\n",
      "Int64Index: 12427 entries, 0 to 14999\n",
      "Data columns (total 15 columns):\n",
      " #   Column                 Non-Null Count  Dtype  \n",
      "---  ------                 --------------  -----  \n",
      " 0   Unnamed: 0             12427 non-null  int64  \n",
      " 1   data_ref               12427 non-null  object \n",
      " 2   id_cliente             12427 non-null  int64  \n",
      " 3   sexo                   12427 non-null  object \n",
      " 4   posse_de_veiculo       12427 non-null  bool   \n",
      " 5   posse_de_imovel        12427 non-null  bool   \n",
      " 6   qtd_filhos             12427 non-null  int64  \n",
      " 7   tipo_renda             12427 non-null  object \n",
      " 8   educacao               12427 non-null  object \n",
      " 9   estado_civil           12427 non-null  object \n",
      " 10  tipo_residencia        12427 non-null  object \n",
      " 11  idade                  12427 non-null  int64  \n",
      " 12  tempo_emprego          12427 non-null  float64\n",
      " 13  qt_pessoas_residencia  12427 non-null  float64\n",
      " 14  renda                  12427 non-null  float64\n",
      "dtypes: bool(2), float64(3), int64(4), object(6)\n",
      "memory usage: 1.4+ MB\n"
     ]
    }
   ],
   "source": [
    "df.info()"
   ]
  },
  {
   "cell_type": "markdown",
   "metadata": {},
   "source": [
    "1. Ajuste um modelo para prever log(renda) considerando todas as covariáveis disponíveis.\n",
    "    - Utilizando os recursos do Patsy, coloque as variáveis qualitativas como *dummies*.\n",
    "    - Mantenha sempre a categoria mais frequente como casela de referência\n",
    "    - Avalie os parâmetros e veja se parecem fazer sentido prático.\n",
    "\n",
    "2. Remova a variável menos significante e analise:\n",
    "    - Observe os indicadores que vimos, e avalie se o modelo melhorou ou piorou na sua opinião.\n",
    "    - Observe os parâmetros e veja se algum se alterou muito.\n",
    "\n",
    "3. Siga removendo as variáveis menos significantes, sempre que o *p-value* for menor que 5%. Compare o modelo final com o inicial. Observe os indicadores e conclua se o modelo parece melhor. \n",
    "    "
   ]
  },
  {
   "cell_type": "markdown",
   "metadata": {},
   "source": [
    "## Carregando pacotes\n"
   ]
  },
  {
   "cell_type": "code",
   "execution_count": 5,
   "metadata": {},
   "outputs": [],
   "source": [
    "\n",
    "import numpy as np\n",
    "\n",
    "import seaborn as sns\n",
    "import matplotlib.pyplot as plt\n",
    "\n",
    "import statsmodels.formula.api as smf\n",
    "import statsmodels.api as sm\n",
    "import patsy\n",
    "\n",
    "%matplotlib inline"
   ]
  },
  {
   "cell_type": "markdown",
   "metadata": {},
   "source": [
    "### Análise gráfica"
   ]
  },
  {
   "cell_type": "code",
   "execution_count": 6,
   "metadata": {},
   "outputs": [
    {
     "data": {
      "text/plain": [
       "<AxesSubplot:xlabel='sexo', ylabel='renda'>"
      ]
     },
     "execution_count": 6,
     "metadata": {},
     "output_type": "execute_result"
    },
    {
     "data": {
      "image/png": "[encoded data removed]",
      "text/plain": [
       "<Figure size 432x288 with 1 Axes>"
      ]
     },
     "metadata": {
      "needs_background": "light"
     },
     "output_type": "display_data"
    }
   ],
   "source": [
    "sns.pointplot(y = 'renda', x = 'sexo', data = df)"
   ]
  },
  {
   "cell_type": "code",
   "execution_count": 7,
   "metadata": {},
   "outputs": [
    {
     "data": {
      "text/plain": [
       "<AxesSubplot:xlabel='tipo_renda', ylabel='renda'>"
      ]
     },
     "execution_count": 7,
     "metadata": {},
     "output_type": "execute_result"
    },
    {
     "data": {
      "image/png": "[encoded data removed]",
      "text/plain": [
       "<Figure size 432x288 with 1 Axes>"
      ]
     },
     "metadata": {
      "needs_background": "light"
     },
     "output_type": "display_data"
    }
   ],
   "source": [
    "sns.pointplot(y = 'renda', x = 'tipo_renda', data = df)"
   ]
  },
  {
   "cell_type": "code",
   "execution_count": 8,
   "metadata": {},
   "outputs": [
    {
     "data": {
      "text/plain": [
       "<AxesSubplot:xlabel='educacao', ylabel='renda'>"
      ]
     },
     "execution_count": 8,
     "metadata": {},
     "output_type": "execute_result"
    },
    {
     "data": {
      "image/png": "[encoded data removed]",
      "text/plain": [
       "<Figure size 432x288 with 1 Axes>"
      ]
     },
     "metadata": {
      "needs_background": "light"
     },
     "output_type": "display_data"
    }
   ],
   "source": [
    "sns.pointplot(y = 'renda', x = 'educacao', data = df)"
   ]
  },
  {
   "cell_type": "code",
   "execution_count": 9,
   "metadata": {},
   "outputs": [
    {
     "data": {
      "text/plain": [
       "<AxesSubplot:xlabel='estado_civil', ylabel='renda'>"
      ]
     },
     "execution_count": 9,
     "metadata": {},
     "output_type": "execute_result"
    },
    {
     "data": {
      "image/png": "[encoded data removed]",
      "text/plain": [
       "<Figure size 432x288 with 1 Axes>"
      ]
     },
     "metadata": {
      "needs_background": "light"
     },
     "output_type": "display_data"
    }
   ],
   "source": [
    "sns.pointplot(y = 'renda', x = 'estado_civil', data = df)"
   ]
  },
  {
   "cell_type": "code",
   "execution_count": 10,
   "metadata": {},
   "outputs": [
    {
     "data": {
      "text/plain": [
       "<AxesSubplot:xlabel='posse_de_veiculo', ylabel='renda'>"
      ]
     },
     "execution_count": 10,
     "metadata": {},
     "output_type": "execute_result"
    },
    {
     "data": {
      "image/png": "[encoded data removed]",
      "text/plain": [
       "<Figure size 432x288 with 1 Axes>"
      ]
     },
     "metadata": {
      "needs_background": "light"
     },
     "output_type": "display_data"
    }
   ],
   "source": [
    "sns.pointplot(y = 'renda', x = 'posse_de_veiculo', data = df)"
   ]
  },
  {
   "cell_type": "code",
   "execution_count": 11,
   "metadata": {},
   "outputs": [
    {
     "data": {
      "text/plain": [
       "<AxesSubplot:xlabel='posse_de_imovel', ylabel='renda'>"
      ]
     },
     "execution_count": 11,
     "metadata": {},
     "output_type": "execute_result"
    },
    {
     "data": {
      "image/png": "[encoded data removed]",
      "text/plain": [
       "<Figure size 432x288 with 1 Axes>"
      ]
     },
     "metadata": {
      "needs_background": "light"
     },
     "output_type": "display_data"
    }
   ],
   "source": [
    "sns.pointplot(y = 'renda', x = 'posse_de_imovel', data = df)"
   ]
  },
  {
   "cell_type": "code",
   "execution_count": 12,
   "metadata": {},
   "outputs": [
    {
     "data": {
      "text/plain": [
       "<AxesSubplot:xlabel='tipo_residencia', ylabel='renda'>"
      ]
     },
     "execution_count": 12,
     "metadata": {},
     "output_type": "execute_result"
    },
    {
     "data": {
      "image/png": "[encoded data removed]",
      "text/plain": [
       "<Figure size 432x288 with 1 Axes>"
      ]
     },
     "metadata": {
      "needs_background": "light"
     },
     "output_type": "display_data"
    }
   ],
   "source": [
    "sns.pointplot(y = 'renda', x = 'tipo_residencia', data = df)"
   ]
  },
  {
   "cell_type": "markdown",
   "metadata": {},
   "source": [
    "### 1. Ajuste um modelo para prever log(renda) considerando todas as covariáveis disponíveis."
   ]
  },
  {
   "cell_type": "code",
   "execution_count": 13,
   "metadata": {},
   "outputs": [],
   "source": [
    "y, x = patsy.dmatrices('np.log(renda) ~ C(sexo) + posse_de_veiculo + posse_de_imovel + qtd_filhos + C(tipo_renda) + C(educacao,Treatment(\"Secundário\")) +C(estado_civil) + C(tipo_residencia,Treatment(\"Casa\")) + idade + tempo_emprego + qt_pessoas_residencia',data = df)\n"
   ]
  },
  {
   "cell_type": "code",
   "execution_count": 23,
   "metadata": {},
   "outputs": [
    {
     "data": {
      "text/plain": [
       "<statsmodels.regression.linear_model.RegressionResultsWrapper at 0x1dbdefea730>"
      ]
     },
     "execution_count": 23,
     "metadata": {},
     "output_type": "execute_result"
    }
   ],
   "source": [
    "sm.OLS(y, x).fit()\n"
   ]
  },
  {
   "cell_type": "code",
   "execution_count": null,
   "metadata": {},
   "outputs": [],
   "source": [
    "###  2. Removendo as variáveis menos significantes "
   ]
  },
  {
   "cell_type": "code",
   "execution_count": 15,
   "metadata": {},
   "outputs": [
    {
     "data": {
      "text/html": [
       "<table class=\"simpletable\">\n",
       "<caption>OLS Regression Results</caption>\n",
       "<tr>\n",
       "  <th>Dep. Variable:</th>      <td>np.log(renda)</td>  <th>  R-squared:         </th> <td>   0.352</td> \n",
       "</tr>\n",
       "<tr>\n",
       "  <th>Model:</th>                   <td>OLS</td>       <th>  Adj. R-squared:    </th> <td>   0.351</td> \n",
       "</tr>\n",
       "<tr>\n",
       "  <th>Method:</th>             <td>Least Squares</td>  <th>  F-statistic:       </th> <td>   336.5</td> \n",
       "</tr>\n",
       "<tr>\n",
       "  <th>Date:</th>             <td>Mon, 11 Oct 2021</td> <th>  Prob (F-statistic):</th>  <td>  0.00</td>  \n",
       "</tr>\n",
       "<tr>\n",
       "  <th>Time:</th>                 <td>15:47:49</td>     <th>  Log-Likelihood:    </th> <td> -13623.</td> \n",
       "</tr>\n",
       "<tr>\n",
       "  <th>No. Observations:</th>      <td> 12427</td>      <th>  AIC:               </th> <td>2.729e+04</td>\n",
       "</tr>\n",
       "<tr>\n",
       "  <th>Df Residuals:</th>          <td> 12406</td>      <th>  BIC:               </th> <td>2.744e+04</td>\n",
       "</tr>\n",
       "<tr>\n",
       "  <th>Df Model:</th>              <td>    20</td>      <th>                     </th>     <td> </td>    \n",
       "</tr>\n",
       "<tr>\n",
       "  <th>Covariance Type:</th>      <td>nonrobust</td>    <th>                     </th>     <td> </td>    \n",
       "</tr>\n",
       "</table>\n",
       "<table class=\"simpletable\">\n",
       "<tr>\n",
       "                               <td></td>                                  <th>coef</th>     <th>std err</th>      <th>t</th>      <th>P>|t|</th>  <th>[0.025</th>    <th>0.975]</th>  \n",
       "</tr>\n",
       "<tr>\n",
       "  <th>Intercept</th>                                                   <td>    6.6172</td> <td>    0.219</td> <td>   30.164</td> <td> 0.000</td> <td>    6.187</td> <td>    7.047</td>\n",
       "</tr>\n",
       "<tr>\n",
       "  <th>C(sexo)[T.M]</th>                                                <td>    0.7790</td> <td>    0.015</td> <td>   53.021</td> <td> 0.000</td> <td>    0.750</td> <td>    0.808</td>\n",
       "</tr>\n",
       "<tr>\n",
       "  <th>posse_de_veiculo[T.True]</th>                                    <td>    0.0459</td> <td>    0.014</td> <td>    3.232</td> <td> 0.001</td> <td>    0.018</td> <td>    0.074</td>\n",
       "</tr>\n",
       "<tr>\n",
       "  <th>posse_de_imovel[T.True]</th>                                     <td>    0.0839</td> <td>    0.014</td> <td>    5.975</td> <td> 0.000</td> <td>    0.056</td> <td>    0.111</td>\n",
       "</tr>\n",
       "<tr>\n",
       "  <th>C(educacao, Treatment(\"Secundário\"))[T.Primário]</th>            <td>   -0.0001</td> <td>    0.072</td> <td>   -0.002</td> <td> 0.999</td> <td>   -0.142</td> <td>    0.142</td>\n",
       "</tr>\n",
       "<tr>\n",
       "  <th>C(educacao, Treatment(\"Secundário\"))[T.Pós graduação]</th>       <td>    0.1559</td> <td>    0.143</td> <td>    1.092</td> <td> 0.275</td> <td>   -0.124</td> <td>    0.436</td>\n",
       "</tr>\n",
       "<tr>\n",
       "  <th>C(educacao, Treatment(\"Secundário\"))[T.Superior completo]</th>   <td>    0.1209</td> <td>    0.014</td> <td>    8.732</td> <td> 0.000</td> <td>    0.094</td> <td>    0.148</td>\n",
       "</tr>\n",
       "<tr>\n",
       "  <th>C(educacao, Treatment(\"Secundário\"))[T.Superior incompleto]</th> <td>   -0.0188</td> <td>    0.032</td> <td>   -0.582</td> <td> 0.561</td> <td>   -0.082</td> <td>    0.045</td>\n",
       "</tr>\n",
       "<tr>\n",
       "  <th>C(estado_civil)[T.Separado]</th>                                 <td>    0.3141</td> <td>    0.112</td> <td>    2.812</td> <td> 0.005</td> <td>    0.095</td> <td>    0.533</td>\n",
       "</tr>\n",
       "<tr>\n",
       "  <th>C(estado_civil)[T.Solteiro]</th>                                 <td>    0.2587</td> <td>    0.109</td> <td>    2.365</td> <td> 0.018</td> <td>    0.044</td> <td>    0.473</td>\n",
       "</tr>\n",
       "<tr>\n",
       "  <th>C(estado_civil)[T.União]</th>                                    <td>   -0.0261</td> <td>    0.025</td> <td>   -1.034</td> <td> 0.301</td> <td>   -0.076</td> <td>    0.023</td>\n",
       "</tr>\n",
       "<tr>\n",
       "  <th>C(estado_civil)[T.Viúvo]</th>                                    <td>    0.3446</td> <td>    0.116</td> <td>    2.969</td> <td> 0.003</td> <td>    0.117</td> <td>    0.572</td>\n",
       "</tr>\n",
       "<tr>\n",
       "  <th>C(tipo_residencia, Treatment(\"Casa\"))[T.Aluguel]</th>            <td>    0.0440</td> <td>    0.054</td> <td>    0.810</td> <td> 0.418</td> <td>   -0.063</td> <td>    0.151</td>\n",
       "</tr>\n",
       "<tr>\n",
       "  <th>C(tipo_residencia, Treatment(\"Casa\"))[T.Com os pais]</th>        <td>    0.0062</td> <td>    0.030</td> <td>    0.210</td> <td> 0.834</td> <td>   -0.052</td> <td>    0.064</td>\n",
       "</tr>\n",
       "<tr>\n",
       "  <th>C(tipo_residencia, Treatment(\"Casa\"))[T.Comunitário]</th>        <td>   -0.0990</td> <td>    0.091</td> <td>   -1.084</td> <td> 0.278</td> <td>   -0.278</td> <td>    0.080</td>\n",
       "</tr>\n",
       "<tr>\n",
       "  <th>C(tipo_residencia, Treatment(\"Casa\"))[T.Estúdio]</th>            <td>    0.1354</td> <td>    0.084</td> <td>    1.608</td> <td> 0.108</td> <td>   -0.030</td> <td>    0.300</td>\n",
       "</tr>\n",
       "<tr>\n",
       "  <th>C(tipo_residencia, Treatment(\"Casa\"))[T.Governamental]</th>      <td>   -0.0112</td> <td>    0.039</td> <td>   -0.286</td> <td> 0.775</td> <td>   -0.088</td> <td>    0.066</td>\n",
       "</tr>\n",
       "<tr>\n",
       "  <th>qtd_filhos</th>                                                  <td>   -0.2559</td> <td>    0.108</td> <td>   -2.361</td> <td> 0.018</td> <td>   -0.468</td> <td>   -0.043</td>\n",
       "</tr>\n",
       "<tr>\n",
       "  <th>idade</th>                                                       <td>    0.0051</td> <td>    0.001</td> <td>    6.347</td> <td> 0.000</td> <td>    0.004</td> <td>    0.007</td>\n",
       "</tr>\n",
       "<tr>\n",
       "  <th>tempo_emprego</th>                                               <td>    0.0609</td> <td>    0.001</td> <td>   59.087</td> <td> 0.000</td> <td>    0.059</td> <td>    0.063</td>\n",
       "</tr>\n",
       "<tr>\n",
       "  <th>qt_pessoas_residencia</th>                                       <td>    0.2782</td> <td>    0.108</td> <td>    2.571</td> <td> 0.010</td> <td>    0.066</td> <td>    0.490</td>\n",
       "</tr>\n",
       "</table>\n",
       "<table class=\"simpletable\">\n",
       "<tr>\n",
       "  <th>Omnibus:</th>       <td> 0.972</td> <th>  Durbin-Watson:     </th> <td>   2.024</td>\n",
       "</tr>\n",
       "<tr>\n",
       "  <th>Prob(Omnibus):</th> <td> 0.615</td> <th>  Jarque-Bera (JB):  </th> <td>   0.966</td>\n",
       "</tr>\n",
       "<tr>\n",
       "  <th>Skew:</th>          <td> 0.022</td> <th>  Prob(JB):          </th> <td>   0.617</td>\n",
       "</tr>\n",
       "<tr>\n",
       "  <th>Kurtosis:</th>      <td> 3.003</td> <th>  Cond. No.          </th> <td>2.13e+03</td>\n",
       "</tr>\n",
       "</table><br/><br/>Notes:<br/>[1] Standard Errors assume that the covariance matrix of the errors is correctly specified.<br/>[2] The condition number is large, 2.13e+03. This might indicate that there are<br/>strong multicollinearity or other numerical problems."
      ],
      "text/plain": [
       "<class 'statsmodels.iolib.summary.Summary'>\n",
       "\"\"\"\n",
       "                            OLS Regression Results                            \n",
       "==============================================================================\n",
       "Dep. Variable:          np.log(renda)   R-squared:                       0.352\n",
       "Model:                            OLS   Adj. R-squared:                  0.351\n",
       "Method:                 Least Squares   F-statistic:                     336.5\n",
       "Date:                Mon, 11 Oct 2021   Prob (F-statistic):               0.00\n",
       "Time:                        15:47:49   Log-Likelihood:                -13623.\n",
       "No. Observations:               12427   AIC:                         2.729e+04\n",
       "Df Residuals:                   12406   BIC:                         2.744e+04\n",
       "Df Model:                          20                                         \n",
       "Covariance Type:            nonrobust                                         \n",
       "===============================================================================================================================\n",
       "                                                                  coef    std err          t      P>|t|      [0.025      0.975]\n",
       "-------------------------------------------------------------------------------------------------------------------------------\n",
       "Intercept                                                       6.6172      0.219     30.164      0.000       6.187       7.047\n",
       "C(sexo)[T.M]                                                    0.7790      0.015     53.021      0.000       0.750       0.808\n",
       "posse_de_veiculo[T.True]                                        0.0459      0.014      3.232      0.001       0.018       0.074\n",
       "posse_de_imovel[T.True]                                         0.0839      0.014      5.975      0.000       0.056       0.111\n",
       "C(educacao, Treatment(\"Secundário\"))[T.Primário]               -0.0001      0.072     -0.002      0.999      -0.142       0.142\n",
       "C(educacao, Treatment(\"Secundário\"))[T.Pós graduação]           0.1559      0.143      1.092      0.275      -0.124       0.436\n",
       "C(educacao, Treatment(\"Secundário\"))[T.Superior completo]       0.1209      0.014      8.732      0.000       0.094       0.148\n",
       "C(educacao, Treatment(\"Secundário\"))[T.Superior incompleto]    -0.0188      0.032     -0.582      0.561      -0.082       0.045\n",
       "C(estado_civil)[T.Separado]                                     0.3141      0.112      2.812      0.005       0.095       0.533\n",
       "C(estado_civil)[T.Solteiro]                                     0.2587      0.109      2.365      0.018       0.044       0.473\n",
       "C(estado_civil)[T.União]                                       -0.0261      0.025     -1.034      0.301      -0.076       0.023\n",
       "C(estado_civil)[T.Viúvo]                                        0.3446      0.116      2.969      0.003       0.117       0.572\n",
       "C(tipo_residencia, Treatment(\"Casa\"))[T.Aluguel]                0.0440      0.054      0.810      0.418      -0.063       0.151\n",
       "C(tipo_residencia, Treatment(\"Casa\"))[T.Com os pais]            0.0062      0.030      0.210      0.834      -0.052       0.064\n",
       "C(tipo_residencia, Treatment(\"Casa\"))[T.Comunitário]           -0.0990      0.091     -1.084      0.278      -0.278       0.080\n",
       "C(tipo_residencia, Treatment(\"Casa\"))[T.Estúdio]                0.1354      0.084      1.608      0.108      -0.030       0.300\n",
       "C(tipo_residencia, Treatment(\"Casa\"))[T.Governamental]         -0.0112      0.039     -0.286      0.775      -0.088       0.066\n",
       "qtd_filhos                                                     -0.2559      0.108     -2.361      0.018      -0.468      -0.043\n",
       "idade                                                           0.0051      0.001      6.347      0.000       0.004       0.007\n",
       "tempo_emprego                                                   0.0609      0.001     59.087      0.000       0.059       0.063\n",
       "qt_pessoas_residencia                                           0.2782      0.108      2.571      0.010       0.066       0.490\n",
       "==============================================================================\n",
       "Omnibus:                        0.972   Durbin-Watson:                   2.024\n",
       "Prob(Omnibus):                  0.615   Jarque-Bera (JB):                0.966\n",
       "Skew:                           0.022   Prob(JB):                        0.617\n",
       "Kurtosis:                       3.003   Cond. No.                     2.13e+03\n",
       "==============================================================================\n",
       "\n",
       "Notes:\n",
       "[1] Standard Errors assume that the covariance matrix of the errors is correctly specified.\n",
       "[2] The condition number is large, 2.13e+03. This might indicate that there are\n",
       "strong multicollinearity or other numerical problems.\n",
       "\"\"\""
      ]
     },
     "execution_count": 15,
     "metadata": {},
     "output_type": "execute_result"
    }
   ],
   "source": [
    "y, x = patsy.dmatrices('np.log(renda) ~ C(sexo) + posse_de_veiculo + posse_de_imovel + qtd_filhos + C(educacao,Treatment(\"Secundário\")) +C(estado_civil) + C(tipo_residencia,Treatment(\"Casa\")) + idade + tempo_emprego + qt_pessoas_residencia',data = df)\n",
    "sm.OLS(y, x).fit().summary()"
   ]
  },
  {
   "cell_type": "code",
   "execution_count": 16,
   "metadata": {},
   "outputs": [
    {
     "data": {
      "text/html": [
       "<table class=\"simpletable\">\n",
       "<caption>OLS Regression Results</caption>\n",
       "<tr>\n",
       "  <th>Dep. Variable:</th>      <td>np.log(renda)</td>  <th>  R-squared:         </th> <td>   0.347</td> \n",
       "</tr>\n",
       "<tr>\n",
       "  <th>Model:</th>                   <td>OLS</td>       <th>  Adj. R-squared:    </th> <td>   0.347</td> \n",
       "</tr>\n",
       "<tr>\n",
       "  <th>Method:</th>             <td>Least Squares</td>  <th>  F-statistic:       </th> <td>   412.9</td> \n",
       "</tr>\n",
       "<tr>\n",
       "  <th>Date:</th>             <td>Mon, 11 Oct 2021</td> <th>  Prob (F-statistic):</th>  <td>  0.00</td>  \n",
       "</tr>\n",
       "<tr>\n",
       "  <th>Time:</th>                 <td>15:47:50</td>     <th>  Log-Likelihood:    </th> <td> -13664.</td> \n",
       "</tr>\n",
       "<tr>\n",
       "  <th>No. Observations:</th>      <td> 12427</td>      <th>  AIC:               </th> <td>2.736e+04</td>\n",
       "</tr>\n",
       "<tr>\n",
       "  <th>Df Residuals:</th>          <td> 12410</td>      <th>  BIC:               </th> <td>2.749e+04</td>\n",
       "</tr>\n",
       "<tr>\n",
       "  <th>Df Model:</th>              <td>    16</td>      <th>                     </th>     <td> </td>    \n",
       "</tr>\n",
       "<tr>\n",
       "  <th>Covariance Type:</th>      <td>nonrobust</td>    <th>                     </th>     <td> </td>    \n",
       "</tr>\n",
       "</table>\n",
       "<table class=\"simpletable\">\n",
       "<tr>\n",
       "                             <td></td>                               <th>coef</th>     <th>std err</th>      <th>t</th>      <th>P>|t|</th>  <th>[0.025</th>    <th>0.975]</th>  \n",
       "</tr>\n",
       "<tr>\n",
       "  <th>Intercept</th>                                              <td>    6.6983</td> <td>    0.220</td> <td>   30.484</td> <td> 0.000</td> <td>    6.268</td> <td>    7.129</td>\n",
       "</tr>\n",
       "<tr>\n",
       "  <th>C(sexo)[T.M]</th>                                           <td>    0.7696</td> <td>    0.015</td> <td>   52.364</td> <td> 0.000</td> <td>    0.741</td> <td>    0.798</td>\n",
       "</tr>\n",
       "<tr>\n",
       "  <th>posse_de_veiculo[T.True]</th>                               <td>    0.0562</td> <td>    0.014</td> <td>    3.961</td> <td> 0.000</td> <td>    0.028</td> <td>    0.084</td>\n",
       "</tr>\n",
       "<tr>\n",
       "  <th>posse_de_imovel[T.True]</th>                                <td>    0.0868</td> <td>    0.014</td> <td>    6.166</td> <td> 0.000</td> <td>    0.059</td> <td>    0.114</td>\n",
       "</tr>\n",
       "<tr>\n",
       "  <th>C(estado_civil)[T.Separado]</th>                            <td>    0.3096</td> <td>    0.112</td> <td>    2.763</td> <td> 0.006</td> <td>    0.090</td> <td>    0.529</td>\n",
       "</tr>\n",
       "<tr>\n",
       "  <th>C(estado_civil)[T.Solteiro]</th>                            <td>    0.2529</td> <td>    0.110</td> <td>    2.305</td> <td> 0.021</td> <td>    0.038</td> <td>    0.468</td>\n",
       "</tr>\n",
       "<tr>\n",
       "  <th>C(estado_civil)[T.União]</th>                               <td>   -0.0294</td> <td>    0.025</td> <td>   -1.162</td> <td> 0.245</td> <td>   -0.079</td> <td>    0.020</td>\n",
       "</tr>\n",
       "<tr>\n",
       "  <th>C(estado_civil)[T.Viúvo]</th>                               <td>    0.3333</td> <td>    0.116</td> <td>    2.863</td> <td> 0.004</td> <td>    0.105</td> <td>    0.562</td>\n",
       "</tr>\n",
       "<tr>\n",
       "  <th>C(tipo_residencia, Treatment(\"Casa\"))[T.Aluguel]</th>       <td>    0.0361</td> <td>    0.055</td> <td>    0.662</td> <td> 0.508</td> <td>   -0.071</td> <td>    0.143</td>\n",
       "</tr>\n",
       "<tr>\n",
       "  <th>C(tipo_residencia, Treatment(\"Casa\"))[T.Com os pais]</th>   <td>    0.0057</td> <td>    0.030</td> <td>    0.193</td> <td> 0.847</td> <td>   -0.052</td> <td>    0.064</td>\n",
       "</tr>\n",
       "<tr>\n",
       "  <th>C(tipo_residencia, Treatment(\"Casa\"))[T.Comunitário]</th>   <td>   -0.0616</td> <td>    0.091</td> <td>   -0.675</td> <td> 0.500</td> <td>   -0.241</td> <td>    0.117</td>\n",
       "</tr>\n",
       "<tr>\n",
       "  <th>C(tipo_residencia, Treatment(\"Casa\"))[T.Estúdio]</th>       <td>    0.1525</td> <td>    0.084</td> <td>    1.806</td> <td> 0.071</td> <td>   -0.013</td> <td>    0.318</td>\n",
       "</tr>\n",
       "<tr>\n",
       "  <th>C(tipo_residencia, Treatment(\"Casa\"))[T.Governamental]</th> <td>   -0.0211</td> <td>    0.039</td> <td>   -0.536</td> <td> 0.592</td> <td>   -0.098</td> <td>    0.056</td>\n",
       "</tr>\n",
       "<tr>\n",
       "  <th>qtd_filhos</th>                                             <td>   -0.2452</td> <td>    0.109</td> <td>   -2.255</td> <td> 0.024</td> <td>   -0.458</td> <td>   -0.032</td>\n",
       "</tr>\n",
       "<tr>\n",
       "  <th>idade</th>                                                  <td>    0.0046</td> <td>    0.001</td> <td>    5.766</td> <td> 0.000</td> <td>    0.003</td> <td>    0.006</td>\n",
       "</tr>\n",
       "<tr>\n",
       "  <th>tempo_emprego</th>                                          <td>    0.0610</td> <td>    0.001</td> <td>   59.037</td> <td> 0.000</td> <td>    0.059</td> <td>    0.063</td>\n",
       "</tr>\n",
       "<tr>\n",
       "  <th>qt_pessoas_residencia</th>                                  <td>    0.2684</td> <td>    0.109</td> <td>    2.473</td> <td> 0.013</td> <td>    0.056</td> <td>    0.481</td>\n",
       "</tr>\n",
       "</table>\n",
       "<table class=\"simpletable\">\n",
       "<tr>\n",
       "  <th>Omnibus:</th>       <td> 1.323</td> <th>  Durbin-Watson:     </th> <td>   2.025</td>\n",
       "</tr>\n",
       "<tr>\n",
       "  <th>Prob(Omnibus):</th> <td> 0.516</td> <th>  Jarque-Bera (JB):  </th> <td>   1.300</td>\n",
       "</tr>\n",
       "<tr>\n",
       "  <th>Skew:</th>          <td> 0.024</td> <th>  Prob(JB):          </th> <td>   0.522</td>\n",
       "</tr>\n",
       "<tr>\n",
       "  <th>Kurtosis:</th>      <td> 3.014</td> <th>  Cond. No.          </th> <td>2.13e+03</td>\n",
       "</tr>\n",
       "</table><br/><br/>Notes:<br/>[1] Standard Errors assume that the covariance matrix of the errors is correctly specified.<br/>[2] The condition number is large, 2.13e+03. This might indicate that there are<br/>strong multicollinearity or other numerical problems."
      ],
      "text/plain": [
       "<class 'statsmodels.iolib.summary.Summary'>\n",
       "\"\"\"\n",
       "                            OLS Regression Results                            \n",
       "==============================================================================\n",
       "Dep. Variable:          np.log(renda)   R-squared:                       0.347\n",
       "Model:                            OLS   Adj. R-squared:                  0.347\n",
       "Method:                 Least Squares   F-statistic:                     412.9\n",
       "Date:                Mon, 11 Oct 2021   Prob (F-statistic):               0.00\n",
       "Time:                        15:47:50   Log-Likelihood:                -13664.\n",
       "No. Observations:               12427   AIC:                         2.736e+04\n",
       "Df Residuals:                   12410   BIC:                         2.749e+04\n",
       "Df Model:                          16                                         \n",
       "Covariance Type:            nonrobust                                         \n",
       "==========================================================================================================================\n",
       "                                                             coef    std err          t      P>|t|      [0.025      0.975]\n",
       "--------------------------------------------------------------------------------------------------------------------------\n",
       "Intercept                                                  6.6983      0.220     30.484      0.000       6.268       7.129\n",
       "C(sexo)[T.M]                                               0.7696      0.015     52.364      0.000       0.741       0.798\n",
       "posse_de_veiculo[T.True]                                   0.0562      0.014      3.961      0.000       0.028       0.084\n",
       "posse_de_imovel[T.True]                                    0.0868      0.014      6.166      0.000       0.059       0.114\n",
       "C(estado_civil)[T.Separado]                                0.3096      0.112      2.763      0.006       0.090       0.529\n",
       "C(estado_civil)[T.Solteiro]                                0.2529      0.110      2.305      0.021       0.038       0.468\n",
       "C(estado_civil)[T.União]                                  -0.0294      0.025     -1.162      0.245      -0.079       0.020\n",
       "C(estado_civil)[T.Viúvo]                                   0.3333      0.116      2.863      0.004       0.105       0.562\n",
       "C(tipo_residencia, Treatment(\"Casa\"))[T.Aluguel]           0.0361      0.055      0.662      0.508      -0.071       0.143\n",
       "C(tipo_residencia, Treatment(\"Casa\"))[T.Com os pais]       0.0057      0.030      0.193      0.847      -0.052       0.064\n",
       "C(tipo_residencia, Treatment(\"Casa\"))[T.Comunitário]      -0.0616      0.091     -0.675      0.500      -0.241       0.117\n",
       "C(tipo_residencia, Treatment(\"Casa\"))[T.Estúdio]           0.1525      0.084      1.806      0.071      -0.013       0.318\n",
       "C(tipo_residencia, Treatment(\"Casa\"))[T.Governamental]    -0.0211      0.039     -0.536      0.592      -0.098       0.056\n",
       "qtd_filhos                                                -0.2452      0.109     -2.255      0.024      -0.458      -0.032\n",
       "idade                                                      0.0046      0.001      5.766      0.000       0.003       0.006\n",
       "tempo_emprego                                              0.0610      0.001     59.037      0.000       0.059       0.063\n",
       "qt_pessoas_residencia                                      0.2684      0.109      2.473      0.013       0.056       0.481\n",
       "==============================================================================\n",
       "Omnibus:                        1.323   Durbin-Watson:                   2.025\n",
       "Prob(Omnibus):                  0.516   Jarque-Bera (JB):                1.300\n",
       "Skew:                           0.024   Prob(JB):                        0.522\n",
       "Kurtosis:                       3.014   Cond. No.                     2.13e+03\n",
       "==============================================================================\n",
       "\n",
       "Notes:\n",
       "[1] Standard Errors assume that the covariance matrix of the errors is correctly specified.\n",
       "[2] The condition number is large, 2.13e+03. This might indicate that there are\n",
       "strong multicollinearity or other numerical problems.\n",
       "\"\"\""
      ]
     },
     "execution_count": 16,
     "metadata": {},
     "output_type": "execute_result"
    }
   ],
   "source": [
    "y, x = patsy.dmatrices('np.log(renda) ~ C(sexo) + posse_de_veiculo + posse_de_imovel + qtd_filhos + C(estado_civil) + C(tipo_residencia,Treatment(\"Casa\")) + idade + tempo_emprego + qt_pessoas_residencia',data = df)\n",
    "sm.OLS(y, x).fit().summary()"
   ]
  },
  {
   "cell_type": "code",
   "execution_count": 17,
   "metadata": {},
   "outputs": [
    {
     "data": {
      "text/html": [
       "<table class=\"simpletable\">\n",
       "<caption>OLS Regression Results</caption>\n",
       "<tr>\n",
       "  <th>Dep. Variable:</th>      <td>np.log(renda)</td>  <th>  R-squared:         </th> <td>   0.347</td> \n",
       "</tr>\n",
       "<tr>\n",
       "  <th>Model:</th>                   <td>OLS</td>       <th>  Adj. R-squared:    </th> <td>   0.346</td> \n",
       "</tr>\n",
       "<tr>\n",
       "  <th>Method:</th>             <td>Least Squares</td>  <th>  F-statistic:       </th> <td>   549.1</td> \n",
       "</tr>\n",
       "<tr>\n",
       "  <th>Date:</th>             <td>Mon, 11 Oct 2021</td> <th>  Prob (F-statistic):</th>  <td>  0.00</td>  \n",
       "</tr>\n",
       "<tr>\n",
       "  <th>Time:</th>                 <td>15:47:50</td>     <th>  Log-Likelihood:    </th> <td> -13670.</td> \n",
       "</tr>\n",
       "<tr>\n",
       "  <th>No. Observations:</th>      <td> 12427</td>      <th>  AIC:               </th> <td>2.737e+04</td>\n",
       "</tr>\n",
       "<tr>\n",
       "  <th>Df Residuals:</th>          <td> 12414</td>      <th>  BIC:               </th> <td>2.746e+04</td>\n",
       "</tr>\n",
       "<tr>\n",
       "  <th>Df Model:</th>              <td>    12</td>      <th>                     </th>     <td> </td>    \n",
       "</tr>\n",
       "<tr>\n",
       "  <th>Covariance Type:</th>      <td>nonrobust</td>    <th>                     </th>     <td> </td>    \n",
       "</tr>\n",
       "</table>\n",
       "<table class=\"simpletable\">\n",
       "<tr>\n",
       "                             <td></td>                               <th>coef</th>     <th>std err</th>      <th>t</th>      <th>P>|t|</th>  <th>[0.025</th>    <th>0.975]</th>  \n",
       "</tr>\n",
       "<tr>\n",
       "  <th>Intercept</th>                                              <td>    7.2354</td> <td>    0.044</td> <td>  163.190</td> <td> 0.000</td> <td>    7.149</td> <td>    7.322</td>\n",
       "</tr>\n",
       "<tr>\n",
       "  <th>C(sexo)[T.M]</th>                                           <td>    0.7676</td> <td>    0.015</td> <td>   52.408</td> <td> 0.000</td> <td>    0.739</td> <td>    0.796</td>\n",
       "</tr>\n",
       "<tr>\n",
       "  <th>posse_de_veiculo[T.True]</th>                               <td>    0.0566</td> <td>    0.014</td> <td>    4.001</td> <td> 0.000</td> <td>    0.029</td> <td>    0.084</td>\n",
       "</tr>\n",
       "<tr>\n",
       "  <th>posse_de_imovel[T.True]</th>                                <td>    0.0866</td> <td>    0.014</td> <td>    6.157</td> <td> 0.000</td> <td>    0.059</td> <td>    0.114</td>\n",
       "</tr>\n",
       "<tr>\n",
       "  <th>C(tipo_residencia, Treatment(\"Casa\"))[T.Aluguel]</th>       <td>    0.0326</td> <td>    0.055</td> <td>    0.597</td> <td> 0.550</td> <td>   -0.074</td> <td>    0.139</td>\n",
       "</tr>\n",
       "<tr>\n",
       "  <th>C(tipo_residencia, Treatment(\"Casa\"))[T.Com os pais]</th>   <td>    0.0054</td> <td>    0.030</td> <td>    0.184</td> <td> 0.854</td> <td>   -0.053</td> <td>    0.063</td>\n",
       "</tr>\n",
       "<tr>\n",
       "  <th>C(tipo_residencia, Treatment(\"Casa\"))[T.Comunitário]</th>   <td>   -0.0587</td> <td>    0.091</td> <td>   -0.643</td> <td> 0.520</td> <td>   -0.238</td> <td>    0.120</td>\n",
       "</tr>\n",
       "<tr>\n",
       "  <th>C(tipo_residencia, Treatment(\"Casa\"))[T.Estúdio]</th>       <td>    0.1503</td> <td>    0.084</td> <td>    1.780</td> <td> 0.075</td> <td>   -0.015</td> <td>    0.316</td>\n",
       "</tr>\n",
       "<tr>\n",
       "  <th>C(tipo_residencia, Treatment(\"Casa\"))[T.Governamental]</th> <td>   -0.0192</td> <td>    0.039</td> <td>   -0.488</td> <td> 0.626</td> <td>   -0.096</td> <td>    0.058</td>\n",
       "</tr>\n",
       "<tr>\n",
       "  <th>qtd_filhos</th>                                             <td>    0.0330</td> <td>    0.019</td> <td>    1.698</td> <td> 0.090</td> <td>   -0.005</td> <td>    0.071</td>\n",
       "</tr>\n",
       "<tr>\n",
       "  <th>idade</th>                                                  <td>    0.0050</td> <td>    0.001</td> <td>    6.384</td> <td> 0.000</td> <td>    0.003</td> <td>    0.007</td>\n",
       "</tr>\n",
       "<tr>\n",
       "  <th>tempo_emprego</th>                                          <td>    0.0609</td> <td>    0.001</td> <td>   58.974</td> <td> 0.000</td> <td>    0.059</td> <td>    0.063</td>\n",
       "</tr>\n",
       "<tr>\n",
       "  <th>qt_pessoas_residencia</th>                                  <td>   -0.0086</td> <td>    0.016</td> <td>   -0.529</td> <td> 0.597</td> <td>   -0.041</td> <td>    0.023</td>\n",
       "</tr>\n",
       "</table>\n",
       "<table class=\"simpletable\">\n",
       "<tr>\n",
       "  <th>Omnibus:</th>       <td> 1.242</td> <th>  Durbin-Watson:     </th> <td>   2.026</td>\n",
       "</tr>\n",
       "<tr>\n",
       "  <th>Prob(Omnibus):</th> <td> 0.537</td> <th>  Jarque-Bera (JB):  </th> <td>   1.213</td>\n",
       "</tr>\n",
       "<tr>\n",
       "  <th>Skew:</th>          <td> 0.022</td> <th>  Prob(JB):          </th> <td>   0.545</td>\n",
       "</tr>\n",
       "<tr>\n",
       "  <th>Kurtosis:</th>      <td> 3.021</td> <th>  Cond. No.          </th> <td>    596.</td>\n",
       "</tr>\n",
       "</table><br/><br/>Notes:<br/>[1] Standard Errors assume that the covariance matrix of the errors is correctly specified."
      ],
      "text/plain": [
       "<class 'statsmodels.iolib.summary.Summary'>\n",
       "\"\"\"\n",
       "                            OLS Regression Results                            \n",
       "==============================================================================\n",
       "Dep. Variable:          np.log(renda)   R-squared:                       0.347\n",
       "Model:                            OLS   Adj. R-squared:                  0.346\n",
       "Method:                 Least Squares   F-statistic:                     549.1\n",
       "Date:                Mon, 11 Oct 2021   Prob (F-statistic):               0.00\n",
       "Time:                        15:47:50   Log-Likelihood:                -13670.\n",
       "No. Observations:               12427   AIC:                         2.737e+04\n",
       "Df Residuals:                   12414   BIC:                         2.746e+04\n",
       "Df Model:                          12                                         \n",
       "Covariance Type:            nonrobust                                         \n",
       "==========================================================================================================================\n",
       "                                                             coef    std err          t      P>|t|      [0.025      0.975]\n",
       "--------------------------------------------------------------------------------------------------------------------------\n",
       "Intercept                                                  7.2354      0.044    163.190      0.000       7.149       7.322\n",
       "C(sexo)[T.M]                                               0.7676      0.015     52.408      0.000       0.739       0.796\n",
       "posse_de_veiculo[T.True]                                   0.0566      0.014      4.001      0.000       0.029       0.084\n",
       "posse_de_imovel[T.True]                                    0.0866      0.014      6.157      0.000       0.059       0.114\n",
       "C(tipo_residencia, Treatment(\"Casa\"))[T.Aluguel]           0.0326      0.055      0.597      0.550      -0.074       0.139\n",
       "C(tipo_residencia, Treatment(\"Casa\"))[T.Com os pais]       0.0054      0.030      0.184      0.854      -0.053       0.063\n",
       "C(tipo_residencia, Treatment(\"Casa\"))[T.Comunitário]      -0.0587      0.091     -0.643      0.520      -0.238       0.120\n",
       "C(tipo_residencia, Treatment(\"Casa\"))[T.Estúdio]           0.1503      0.084      1.780      0.075      -0.015       0.316\n",
       "C(tipo_residencia, Treatment(\"Casa\"))[T.Governamental]    -0.0192      0.039     -0.488      0.626      -0.096       0.058\n",
       "qtd_filhos                                                 0.0330      0.019      1.698      0.090      -0.005       0.071\n",
       "idade                                                      0.0050      0.001      6.384      0.000       0.003       0.007\n",
       "tempo_emprego                                              0.0609      0.001     58.974      0.000       0.059       0.063\n",
       "qt_pessoas_residencia                                     -0.0086      0.016     -0.529      0.597      -0.041       0.023\n",
       "==============================================================================\n",
       "Omnibus:                        1.242   Durbin-Watson:                   2.026\n",
       "Prob(Omnibus):                  0.537   Jarque-Bera (JB):                1.213\n",
       "Skew:                           0.022   Prob(JB):                        0.545\n",
       "Kurtosis:                       3.021   Cond. No.                         596.\n",
       "==============================================================================\n",
       "\n",
       "Notes:\n",
       "[1] Standard Errors assume that the covariance matrix of the errors is correctly specified.\n",
       "\"\"\""
      ]
     },
     "execution_count": 17,
     "metadata": {},
     "output_type": "execute_result"
    }
   ],
   "source": [
    "y, x = patsy.dmatrices('np.log(renda) ~ C(sexo) + posse_de_veiculo + posse_de_imovel + qtd_filhos + C(tipo_residencia,Treatment(\"Casa\")) + idade + tempo_emprego + qt_pessoas_residencia',data = df)\n",
    "sm.OLS(y, x).fit().summary()"
   ]
  },
  {
   "cell_type": "code",
   "execution_count": 18,
   "metadata": {},
   "outputs": [
    {
     "data": {
      "text/html": [
       "<table class=\"simpletable\">\n",
       "<caption>OLS Regression Results</caption>\n",
       "<tr>\n",
       "  <th>Dep. Variable:</th>      <td>np.log(renda)</td>  <th>  R-squared:         </th> <td>   0.347</td> \n",
       "</tr>\n",
       "<tr>\n",
       "  <th>Model:</th>                   <td>OLS</td>       <th>  Adj. R-squared:    </th> <td>   0.346</td> \n",
       "</tr>\n",
       "<tr>\n",
       "  <th>Method:</th>             <td>Least Squares</td>  <th>  F-statistic:       </th> <td>   940.8</td> \n",
       "</tr>\n",
       "<tr>\n",
       "  <th>Date:</th>             <td>Mon, 11 Oct 2021</td> <th>  Prob (F-statistic):</th>  <td>  0.00</td>  \n",
       "</tr>\n",
       "<tr>\n",
       "  <th>Time:</th>                 <td>15:47:50</td>     <th>  Log-Likelihood:    </th> <td> -13672.</td> \n",
       "</tr>\n",
       "<tr>\n",
       "  <th>No. Observations:</th>      <td> 12427</td>      <th>  AIC:               </th> <td>2.736e+04</td>\n",
       "</tr>\n",
       "<tr>\n",
       "  <th>Df Residuals:</th>          <td> 12419</td>      <th>  BIC:               </th> <td>2.742e+04</td>\n",
       "</tr>\n",
       "<tr>\n",
       "  <th>Df Model:</th>              <td>     7</td>      <th>                     </th>     <td> </td>    \n",
       "</tr>\n",
       "<tr>\n",
       "  <th>Covariance Type:</th>      <td>nonrobust</td>    <th>                     </th>     <td> </td>    \n",
       "</tr>\n",
       "</table>\n",
       "<table class=\"simpletable\">\n",
       "<tr>\n",
       "              <td></td>                <th>coef</th>     <th>std err</th>      <th>t</th>      <th>P>|t|</th>  <th>[0.025</th>    <th>0.975]</th>  \n",
       "</tr>\n",
       "<tr>\n",
       "  <th>Intercept</th>                <td>    7.2377</td> <td>    0.043</td> <td>  166.875</td> <td> 0.000</td> <td>    7.153</td> <td>    7.323</td>\n",
       "</tr>\n",
       "<tr>\n",
       "  <th>C(sexo)[T.M]</th>             <td>    0.7694</td> <td>    0.015</td> <td>   52.676</td> <td> 0.000</td> <td>    0.741</td> <td>    0.798</td>\n",
       "</tr>\n",
       "<tr>\n",
       "  <th>posse_de_veiculo[T.True]</th> <td>    0.0569</td> <td>    0.014</td> <td>    4.022</td> <td> 0.000</td> <td>    0.029</td> <td>    0.085</td>\n",
       "</tr>\n",
       "<tr>\n",
       "  <th>posse_de_imovel[T.True]</th>  <td>    0.0866</td> <td>    0.014</td> <td>    6.275</td> <td> 0.000</td> <td>    0.060</td> <td>    0.114</td>\n",
       "</tr>\n",
       "<tr>\n",
       "  <th>qtd_filhos</th>               <td>    0.0338</td> <td>    0.019</td> <td>    1.735</td> <td> 0.083</td> <td>   -0.004</td> <td>    0.072</td>\n",
       "</tr>\n",
       "<tr>\n",
       "  <th>idade</th>                    <td>    0.0049</td> <td>    0.001</td> <td>    6.408</td> <td> 0.000</td> <td>    0.003</td> <td>    0.006</td>\n",
       "</tr>\n",
       "<tr>\n",
       "  <th>tempo_emprego</th>            <td>    0.0610</td> <td>    0.001</td> <td>   59.075</td> <td> 0.000</td> <td>    0.059</td> <td>    0.063</td>\n",
       "</tr>\n",
       "<tr>\n",
       "  <th>qt_pessoas_residencia</th>    <td>   -0.0092</td> <td>    0.016</td> <td>   -0.566</td> <td> 0.572</td> <td>   -0.041</td> <td>    0.023</td>\n",
       "</tr>\n",
       "</table>\n",
       "<table class=\"simpletable\">\n",
       "<tr>\n",
       "  <th>Omnibus:</th>       <td> 1.240</td> <th>  Durbin-Watson:     </th> <td>   2.025</td>\n",
       "</tr>\n",
       "<tr>\n",
       "  <th>Prob(Omnibus):</th> <td> 0.538</td> <th>  Jarque-Bera (JB):  </th> <td>   1.213</td>\n",
       "</tr>\n",
       "<tr>\n",
       "  <th>Skew:</th>          <td> 0.022</td> <th>  Prob(JB):          </th> <td>   0.545</td>\n",
       "</tr>\n",
       "<tr>\n",
       "  <th>Kurtosis:</th>      <td> 3.019</td> <th>  Cond. No.          </th> <td>    300.</td>\n",
       "</tr>\n",
       "</table><br/><br/>Notes:<br/>[1] Standard Errors assume that the covariance matrix of the errors is correctly specified."
      ],
      "text/plain": [
       "<class 'statsmodels.iolib.summary.Summary'>\n",
       "\"\"\"\n",
       "                            OLS Regression Results                            \n",
       "==============================================================================\n",
       "Dep. Variable:          np.log(renda)   R-squared:                       0.347\n",
       "Model:                            OLS   Adj. R-squared:                  0.346\n",
       "Method:                 Least Squares   F-statistic:                     940.8\n",
       "Date:                Mon, 11 Oct 2021   Prob (F-statistic):               0.00\n",
       "Time:                        15:47:50   Log-Likelihood:                -13672.\n",
       "No. Observations:               12427   AIC:                         2.736e+04\n",
       "Df Residuals:                   12419   BIC:                         2.742e+04\n",
       "Df Model:                           7                                         \n",
       "Covariance Type:            nonrobust                                         \n",
       "============================================================================================\n",
       "                               coef    std err          t      P>|t|      [0.025      0.975]\n",
       "--------------------------------------------------------------------------------------------\n",
       "Intercept                    7.2377      0.043    166.875      0.000       7.153       7.323\n",
       "C(sexo)[T.M]                 0.7694      0.015     52.676      0.000       0.741       0.798\n",
       "posse_de_veiculo[T.True]     0.0569      0.014      4.022      0.000       0.029       0.085\n",
       "posse_de_imovel[T.True]      0.0866      0.014      6.275      0.000       0.060       0.114\n",
       "qtd_filhos                   0.0338      0.019      1.735      0.083      -0.004       0.072\n",
       "idade                        0.0049      0.001      6.408      0.000       0.003       0.006\n",
       "tempo_emprego                0.0610      0.001     59.075      0.000       0.059       0.063\n",
       "qt_pessoas_residencia       -0.0092      0.016     -0.566      0.572      -0.041       0.023\n",
       "==============================================================================\n",
       "Omnibus:                        1.240   Durbin-Watson:                   2.025\n",
       "Prob(Omnibus):                  0.538   Jarque-Bera (JB):                1.213\n",
       "Skew:                           0.022   Prob(JB):                        0.545\n",
       "Kurtosis:                       3.019   Cond. No.                         300.\n",
       "==============================================================================\n",
       "\n",
       "Notes:\n",
       "[1] Standard Errors assume that the covariance matrix of the errors is correctly specified.\n",
       "\"\"\""
      ]
     },
     "execution_count": 18,
     "metadata": {},
     "output_type": "execute_result"
    }
   ],
   "source": [
    "y, x = patsy.dmatrices('np.log(renda) ~ C(sexo) + posse_de_veiculo + posse_de_imovel + qtd_filhos + idade + tempo_emprego + qt_pessoas_residencia',data = df)\n",
    "sm.OLS(y, x).fit().summary()"
   ]
  },
  {
   "cell_type": "code",
   "execution_count": 19,
   "metadata": {},
   "outputs": [
    {
     "data": {
      "text/html": [
       "<table class=\"simpletable\">\n",
       "<caption>OLS Regression Results</caption>\n",
       "<tr>\n",
       "  <th>Dep. Variable:</th>      <td>np.log(renda)</td>  <th>  R-squared:         </th> <td>   0.346</td> \n",
       "</tr>\n",
       "<tr>\n",
       "  <th>Model:</th>                   <td>OLS</td>       <th>  Adj. R-squared:    </th> <td>   0.346</td> \n",
       "</tr>\n",
       "<tr>\n",
       "  <th>Method:</th>             <td>Least Squares</td>  <th>  F-statistic:       </th> <td>   1097.</td> \n",
       "</tr>\n",
       "<tr>\n",
       "  <th>Date:</th>             <td>Mon, 11 Oct 2021</td> <th>  Prob (F-statistic):</th>  <td>  0.00</td>  \n",
       "</tr>\n",
       "<tr>\n",
       "  <th>Time:</th>                 <td>15:47:50</td>     <th>  Log-Likelihood:    </th> <td> -13674.</td> \n",
       "</tr>\n",
       "<tr>\n",
       "  <th>No. Observations:</th>      <td> 12427</td>      <th>  AIC:               </th> <td>2.736e+04</td>\n",
       "</tr>\n",
       "<tr>\n",
       "  <th>Df Residuals:</th>          <td> 12420</td>      <th>  BIC:               </th> <td>2.741e+04</td>\n",
       "</tr>\n",
       "<tr>\n",
       "  <th>Df Model:</th>              <td>     6</td>      <th>                     </th>     <td> </td>    \n",
       "</tr>\n",
       "<tr>\n",
       "  <th>Covariance Type:</th>      <td>nonrobust</td>    <th>                     </th>     <td> </td>    \n",
       "</tr>\n",
       "</table>\n",
       "<table class=\"simpletable\">\n",
       "<tr>\n",
       "              <td></td>                <th>coef</th>     <th>std err</th>      <th>t</th>      <th>P>|t|</th>  <th>[0.025</th>    <th>0.975]</th>  \n",
       "</tr>\n",
       "<tr>\n",
       "  <th>Intercept</th>                <td>    7.2045</td> <td>    0.039</td> <td>  185.009</td> <td> 0.000</td> <td>    7.128</td> <td>    7.281</td>\n",
       "</tr>\n",
       "<tr>\n",
       "  <th>C(sexo)[T.M]</th>             <td>    0.7681</td> <td>    0.015</td> <td>   52.652</td> <td> 0.000</td> <td>    0.740</td> <td>    0.797</td>\n",
       "</tr>\n",
       "<tr>\n",
       "  <th>posse_de_veiculo[T.True]</th> <td>    0.0552</td> <td>    0.014</td> <td>    3.914</td> <td> 0.000</td> <td>    0.028</td> <td>    0.083</td>\n",
       "</tr>\n",
       "<tr>\n",
       "  <th>posse_de_imovel[T.True]</th>  <td>    0.0871</td> <td>    0.014</td> <td>    6.312</td> <td> 0.000</td> <td>    0.060</td> <td>    0.114</td>\n",
       "</tr>\n",
       "<tr>\n",
       "  <th>idade</th>                    <td>    0.0048</td> <td>    0.001</td> <td>    6.231</td> <td> 0.000</td> <td>    0.003</td> <td>    0.006</td>\n",
       "</tr>\n",
       "<tr>\n",
       "  <th>tempo_emprego</th>            <td>    0.0610</td> <td>    0.001</td> <td>   59.126</td> <td> 0.000</td> <td>    0.059</td> <td>    0.063</td>\n",
       "</tr>\n",
       "<tr>\n",
       "  <th>qt_pessoas_residencia</th>    <td>    0.0161</td> <td>    0.007</td> <td>    2.228</td> <td> 0.026</td> <td>    0.002</td> <td>    0.030</td>\n",
       "</tr>\n",
       "</table>\n",
       "<table class=\"simpletable\">\n",
       "<tr>\n",
       "  <th>Omnibus:</th>       <td> 1.250</td> <th>  Durbin-Watson:     </th> <td>   2.026</td>\n",
       "</tr>\n",
       "<tr>\n",
       "  <th>Prob(Omnibus):</th> <td> 0.535</td> <th>  Jarque-Bera (JB):  </th> <td>   1.222</td>\n",
       "</tr>\n",
       "<tr>\n",
       "  <th>Skew:</th>          <td> 0.022</td> <th>  Prob(JB):          </th> <td>   0.543</td>\n",
       "</tr>\n",
       "<tr>\n",
       "  <th>Kurtosis:</th>      <td> 3.020</td> <th>  Cond. No.          </th> <td>    257.</td>\n",
       "</tr>\n",
       "</table><br/><br/>Notes:<br/>[1] Standard Errors assume that the covariance matrix of the errors is correctly specified."
      ],
      "text/plain": [
       "<class 'statsmodels.iolib.summary.Summary'>\n",
       "\"\"\"\n",
       "                            OLS Regression Results                            \n",
       "==============================================================================\n",
       "Dep. Variable:          np.log(renda)   R-squared:                       0.346\n",
       "Model:                            OLS   Adj. R-squared:                  0.346\n",
       "Method:                 Least Squares   F-statistic:                     1097.\n",
       "Date:                Mon, 11 Oct 2021   Prob (F-statistic):               0.00\n",
       "Time:                        15:47:50   Log-Likelihood:                -13674.\n",
       "No. Observations:               12427   AIC:                         2.736e+04\n",
       "Df Residuals:                   12420   BIC:                         2.741e+04\n",
       "Df Model:                           6                                         \n",
       "Covariance Type:            nonrobust                                         \n",
       "============================================================================================\n",
       "                               coef    std err          t      P>|t|      [0.025      0.975]\n",
       "--------------------------------------------------------------------------------------------\n",
       "Intercept                    7.2045      0.039    185.009      0.000       7.128       7.281\n",
       "C(sexo)[T.M]                 0.7681      0.015     52.652      0.000       0.740       0.797\n",
       "posse_de_veiculo[T.True]     0.0552      0.014      3.914      0.000       0.028       0.083\n",
       "posse_de_imovel[T.True]      0.0871      0.014      6.312      0.000       0.060       0.114\n",
       "idade                        0.0048      0.001      6.231      0.000       0.003       0.006\n",
       "tempo_emprego                0.0610      0.001     59.126      0.000       0.059       0.063\n",
       "qt_pessoas_residencia        0.0161      0.007      2.228      0.026       0.002       0.030\n",
       "==============================================================================\n",
       "Omnibus:                        1.250   Durbin-Watson:                   2.026\n",
       "Prob(Omnibus):                  0.535   Jarque-Bera (JB):                1.222\n",
       "Skew:                           0.022   Prob(JB):                        0.543\n",
       "Kurtosis:                       3.020   Cond. No.                         257.\n",
       "==============================================================================\n",
       "\n",
       "Notes:\n",
       "[1] Standard Errors assume that the covariance matrix of the errors is correctly specified.\n",
       "\"\"\""
      ]
     },
     "execution_count": 19,
     "metadata": {},
     "output_type": "execute_result"
    }
   ],
   "source": [
    "y, x = patsy.dmatrices('np.log(renda) ~ C(sexo) + posse_de_veiculo + posse_de_imovel + idade + tempo_emprego + qt_pessoas_residencia',data = df)\n",
    "modelo = sm.OLS(y, x).fit()\n",
    "modelo.summary()"
   ]
  },
  {
   "cell_type": "code",
   "execution_count": 20,
   "metadata": {},
   "outputs": [
    {
     "data": {
      "text/plain": [
       "<AxesSubplot:xlabel='tempo_emprego', ylabel='res_log'>"
      ]
     },
     "execution_count": 20,
     "metadata": {},
     "output_type": "execute_result"
    },
    {
     "data": {
      "image/png": "[encoded data removed]",
      "text/plain": [
       "<Figure size 432x288 with 1 Axes>"
      ]
     },
     "metadata": {
      "needs_background": "light"
     },
     "output_type": "display_data"
    }
   ],
   "source": [
    "df['res_log'] = modelo.resid\n",
    "\n",
    "sns.regplot(x='tempo_emprego', y='res_log', data = df)"
   ]
  },
  {
   "cell_type": "code",
   "execution_count": 21,
   "metadata": {},
   "outputs": [
    {
     "data": {
      "text/plain": [
       "<AxesSubplot:xlabel='idade', ylabel='res_log'>"
      ]
     },
     "execution_count": 21,
     "metadata": {},
     "output_type": "execute_result"
    },
    {
     "data": {
      "image/png": "[encoded data removed]",
      "text/plain": [
       "<Figure size 432x288 with 1 Axes>"
      ]
     },
     "metadata": {
      "needs_background": "light"
     },
     "output_type": "display_data"
    }
   ],
   "source": [
    "df['res_log'] = modelo.resid\n",
    "\n",
    "sns.regplot(x='idade', y='res_log', data = df)"
   ]
  },
  {
   "cell_type": "markdown",
   "metadata": {},
   "source": [
    "O ultimo modelo é o melhor , com base nos erros e no P-value de cada variavel do modelo.\n"
   ]
  },
  {
   "cell_type": "code",
   "execution_count": null,
   "metadata": {},
   "outputs": [],
   "source": []
  },
  {
   "cell_type": "code",
   "execution_count": null,
   "metadata": {},
   "outputs": [],
   "source": []
  },
  {
   "cell_type": "code",
   "execution_count": null,
   "metadata": {},
   "outputs": [],
   "source": []
  },
  {
   "cell_type": "code",
   "execution_count": null,
   "metadata": {},
   "outputs": [],
   "source": []
  },
  {
   "cell_type": "code",
   "execution_count": null,
   "metadata": {},
   "outputs": [],
   "source": []
  },
  {
   "cell_type": "code",
   "execution_count": null,
   "metadata": {},
   "outputs": [],
   "source": []
  },
  {
   "cell_type": "code",
   "execution_count": null,
   "metadata": {},
   "outputs": [],
   "source": []
  },
  {
   "cell_type": "code",
   "execution_count": null,
   "metadata": {},
   "outputs": [],
   "source": []
  },
  {
   "cell_type": "code",
   "execution_count": null,
   "metadata": {},
   "outputs": [],
   "source": []
  },
  {
   "cell_type": "code",
   "execution_count": null,
   "metadata": {},
   "outputs": [],
   "source": []
  },
  {
   "cell_type": "code",
   "execution_count": null,
   "metadata": {},
   "outputs": [],
   "source": []
  },
  {
   "cell_type": "code",
   "execution_count": null,
   "metadata": {},
   "outputs": [],
   "source": []
  },
  {
   "cell_type": "code",
   "execution_count": null,
   "metadata": {},
   "outputs": [],
   "source": []
  },
  {
   "cell_type": "code",
   "execution_count": null,
   "metadata": {},
   "outputs": [],
   "source": []
  }
 ],
 "metadata": {
  "kernelspec": {
   "display_name": "Python 3",
   "language": "python",
   "name": "python3"
  },
  "language_info": {
   "codemirror_mode": {
    "name": "ipython",
    "version": 3
   },
   "file_extension": ".py",
   "mimetype": "text/x-python",
   "name": "python",
   "nbconvert_exporter": "python",
   "pygments_lexer": "ipython3",
   "version": "3.8.8"
  }
 },
 "nbformat": 4,
 "nbformat_minor": 4
}
