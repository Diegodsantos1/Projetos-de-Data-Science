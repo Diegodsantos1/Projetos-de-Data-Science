{
  "nbformat": 4,
  "nbformat_minor": 0,
  "metadata": {
    "kernelspec": {
      "display_name": "Python 3",
      "language": "python",
      "name": "python3"
    },
    "language_info": {
      "codemirror_mode": {
        "name": "ipython",
        "version": 3
      },
      "file_extension": ".py",
      "mimetype": "text/x-python",
      "name": "python",
      "nbconvert_exporter": "python",
      "pygments_lexer": "ipython3",
      "version": "3.8.5"
    },
    "colab": {
      "name": "mod12 ex02 - transformações em X e Y.ipynb",
      "provenance": []
    }
  },
  "cells": [
    {
      "cell_type": "code",
      "metadata": {
        "id": "fqHQeL2oeLwQ"
      },
      "source": [
        "import pandas as pd\n",
        "import seaborn as sns\n",
        "from seaborn import load_dataset\n",
        "\n",
        "import matplotlib.pyplot as plt\n",
        "\n",
        "import numpy as np\n",
        "\n",
        "import statsmodels.formula.api as smf\n",
        "\n",
        "%matplotlib inline"
      ],
      "execution_count": 34,
      "outputs": []
    },
    {
      "cell_type": "markdown",
      "metadata": {
        "id": "DRrLDy_vPSZl"
      },
      "source": [
        "# Regressão 01 - tarefa 02 - transformações em X e Y"
      ]
    },
    {
      "cell_type": "markdown",
      "metadata": {
        "id": "kQNY5t4APSZq"
      },
      "source": [
        "### 1. Melhorando o ajuste no percentual de gorjetas\n",
        "\n",
        "a. Vamos partir do modelo feito na última tarefa, o que relaciona ```tip_pct``` e ```net_bill```. Carregue a base, os pacotes e reproduza este modelo aqui."
      ]
    },
    {
      "cell_type": "markdown",
      "metadata": {
        "id": "oupY5xDEdzfA"
      },
      "source": [
        "### Carregando base de dados e instanciando o modelo de regressão\n"
      ]
    },
    {
      "cell_type": "code",
      "metadata": {
        "id": "DD9jupv0PSZr"
      },
      "source": [
        "tips = sns.load_dataset(\"tips\")\n",
        "tips['tip_pct'] = tips['tip'] / (tips['total_bill'] - tips['tip'])\n",
        "tips['net_bill'] = tips['total_bill'] - tips['tip']"
      ],
      "execution_count": 35,
      "outputs": []
    },
    {
      "cell_type": "code",
      "metadata": {
        "colab": {
          "base_uri": "https://localhost:8080/",
          "height": 297
        },
        "id": "6MEV8jHTfS43",
        "outputId": "6e896ab6-73e5-4a73-c0b5-cc84fceb2ea2"
      },
      "source": [
        "tips['tip_pct_x'] = np.log((tips['net_bill']-(tips['net_bill'].min()-.1))) + np.random.randn(244)*.05\n",
        "tips['tip_pct_x'] = tips['tip_pct_x'] - tips['tip_pct_x'].mean()\n",
        "sns.regplot(x = tips['tip_pct_x'], y = tips['net_bill'])"
      ],
      "execution_count": 36,
      "outputs": [
        {
          "output_type": "execute_result",
          "data": {
            "text/plain": [
              "<matplotlib.axes._subplots.AxesSubplot at 0x7f51454b5690>"
            ]
          },
          "metadata": {},
          "execution_count": 36
        },
        {
          "output_type": "display_data",
          "data": {
            "image/png": "[encoded data removed]",
            "text/plain": [
              "<Figure size 432x288 with 1 Axes>"
            ]
          },
          "metadata": {
            "needs_background": "light"
          }
        }
      ]
    },
    {
      "cell_type": "code",
      "metadata": {
        "colab": {
          "base_uri": "https://localhost:8080/",
          "height": 452
        },
        "id": "1NZnwY5VeSeI",
        "outputId": "1230393a-efd9-464c-fcca-e46e98699d28"
      },
      "source": [
        "reg = smf.ols('tip_pct_x ~ net_bill', data=tips).fit()\n",
        "reg.summary()"
      ],
      "execution_count": 37,
      "outputs": [
        {
          "output_type": "execute_result",
          "data": {
            "text/html": [
              "<table class=\"simpletable\">\n",
              "<caption>OLS Regression Results</caption>\n",
              "<tr>\n",
              "  <th>Dep. Variable:</th>        <td>tip_pct_x</td>    <th>  R-squared:         </th> <td>   0.680</td>\n",
              "</tr>\n",
              "<tr>\n",
              "  <th>Model:</th>                   <td>OLS</td>       <th>  Adj. R-squared:    </th> <td>   0.679</td>\n",
              "</tr>\n",
              "<tr>\n",
              "  <th>Method:</th>             <td>Least Squares</td>  <th>  F-statistic:       </th> <td>   514.4</td>\n",
              "</tr>\n",
              "<tr>\n",
              "  <th>Date:</th>             <td>Thu, 30 Sep 2021</td> <th>  Prob (F-statistic):</th> <td>8.08e-62</td>\n",
              "</tr>\n",
              "<tr>\n",
              "  <th>Time:</th>                 <td>21:10:53</td>     <th>  Log-Likelihood:    </th> <td> -111.07</td>\n",
              "</tr>\n",
              "<tr>\n",
              "  <th>No. Observations:</th>      <td>   244</td>      <th>  AIC:               </th> <td>   226.1</td>\n",
              "</tr>\n",
              "<tr>\n",
              "  <th>Df Residuals:</th>          <td>   242</td>      <th>  BIC:               </th> <td>   233.1</td>\n",
              "</tr>\n",
              "<tr>\n",
              "  <th>Df Model:</th>              <td>     1</td>      <th>                     </th>     <td> </td>   \n",
              "</tr>\n",
              "<tr>\n",
              "  <th>Covariance Type:</th>      <td>nonrobust</td>    <th>                     </th>     <td> </td>   \n",
              "</tr>\n",
              "</table>\n",
              "<table class=\"simpletable\">\n",
              "<tr>\n",
              "      <td></td>         <th>coef</th>     <th>std err</th>      <th>t</th>      <th>P>|t|</th>  <th>[0.025</th>    <th>0.975]</th>  \n",
              "</tr>\n",
              "<tr>\n",
              "  <th>Intercept</th> <td>   -1.1647</td> <td>    0.057</td> <td>  -20.466</td> <td> 0.000</td> <td>   -1.277</td> <td>   -1.053</td>\n",
              "</tr>\n",
              "<tr>\n",
              "  <th>net_bill</th>  <td>    0.0694</td> <td>    0.003</td> <td>   22.680</td> <td> 0.000</td> <td>    0.063</td> <td>    0.075</td>\n",
              "</tr>\n",
              "</table>\n",
              "<table class=\"simpletable\">\n",
              "<tr>\n",
              "  <th>Omnibus:</th>       <td>380.557</td> <th>  Durbin-Watson:     </th> <td>   2.109</td> \n",
              "</tr>\n",
              "<tr>\n",
              "  <th>Prob(Omnibus):</th> <td> 0.000</td>  <th>  Jarque-Bera (JB):  </th> <td>55042.533</td>\n",
              "</tr>\n",
              "<tr>\n",
              "  <th>Skew:</th>          <td>-7.751</td>  <th>  Prob(JB):          </th> <td>    0.00</td> \n",
              "</tr>\n",
              "<tr>\n",
              "  <th>Kurtosis:</th>      <td>74.928</td>  <th>  Cond. No.          </th> <td>    43.3</td> \n",
              "</tr>\n",
              "</table><br/><br/>Warnings:<br/>[1] Standard Errors assume that the covariance matrix of the errors is correctly specified."
            ],
            "text/plain": [
              "<class 'statsmodels.iolib.summary.Summary'>\n",
              "\"\"\"\n",
              "                            OLS Regression Results                            \n",
              "==============================================================================\n",
              "Dep. Variable:              tip_pct_x   R-squared:                       0.680\n",
              "Model:                            OLS   Adj. R-squared:                  0.679\n",
              "Method:                 Least Squares   F-statistic:                     514.4\n",
              "Date:                Thu, 30 Sep 2021   Prob (F-statistic):           8.08e-62\n",
              "Time:                        21:10:53   Log-Likelihood:                -111.07\n",
              "No. Observations:                 244   AIC:                             226.1\n",
              "Df Residuals:                     242   BIC:                             233.1\n",
              "Df Model:                           1                                         \n",
              "Covariance Type:            nonrobust                                         \n",
              "==============================================================================\n",
              "                 coef    std err          t      P>|t|      [0.025      0.975]\n",
              "------------------------------------------------------------------------------\n",
              "Intercept     -1.1647      0.057    -20.466      0.000      -1.277      -1.053\n",
              "net_bill       0.0694      0.003     22.680      0.000       0.063       0.075\n",
              "==============================================================================\n",
              "Omnibus:                      380.557   Durbin-Watson:                   2.109\n",
              "Prob(Omnibus):                  0.000   Jarque-Bera (JB):            55042.533\n",
              "Skew:                          -7.751   Prob(JB):                         0.00\n",
              "Kurtosis:                      74.928   Cond. No.                         43.3\n",
              "==============================================================================\n",
              "\n",
              "Warnings:\n",
              "[1] Standard Errors assume that the covariance matrix of the errors is correctly specified.\n",
              "\"\"\""
            ]
          },
          "metadata": {},
          "execution_count": 37
        }
      ]
    },
    {
      "cell_type": "code",
      "metadata": {
        "colab": {
          "base_uri": "https://localhost:8080/",
          "height": 297
        },
        "id": "ErzlSbyGi4eX",
        "outputId": "45355173-d1f0-42df-a5e2-399decb7a96c"
      },
      "source": [
        "tips['res'] = reg.resid\n",
        "\n",
        "\n",
        "sns.scatterplot(x = 'net_bill', y = 'res', data = tips, alpha = .75)\n",
        "plt.axhline(y=0, color='r', linestyle='--')"
      ],
      "execution_count": 38,
      "outputs": [
        {
          "output_type": "execute_result",
          "data": {
            "text/plain": [
              "<matplotlib.lines.Line2D at 0x7f51454a4bd0>"
            ]
          },
          "metadata": {},
          "execution_count": 38
        },
        {
          "output_type": "display_data",
          "data": {
            "image/png": "[encoded data removed]",
            "text/plain": [
              "<Figure size 432x288 with 1 Axes>"
            ]
          },
          "metadata": {
            "needs_background": "light"
          }
        }
      ]
    },
    {
      "cell_type": "markdown",
      "metadata": {
        "id": "AmWL1n6gPSZt"
      },
      "source": [
        "### 2. ajuste o modelo de ```tip_pct``` em função do logaritmo de ```net_bill```."
      ]
    },
    {
      "cell_type": "code",
      "metadata": {
        "colab": {
          "base_uri": "https://localhost:8080/",
          "height": 452
        },
        "id": "qrsN6XzfPSZt",
        "outputId": "c23cd0eb-e234-4213-893e-3788ee7f11ae"
      },
      "source": [
        "reg = smf.ols('tip_pct_x ~ np.log(net_bill)', data=tips).fit()\n",
        "reg.summary()"
      ],
      "execution_count": 39,
      "outputs": [
        {
          "output_type": "execute_result",
          "data": {
            "text/html": [
              "<table class=\"simpletable\">\n",
              "<caption>OLS Regression Results</caption>\n",
              "<tr>\n",
              "  <th>Dep. Variable:</th>        <td>tip_pct_x</td>    <th>  R-squared:         </th> <td>   0.901</td> \n",
              "</tr>\n",
              "<tr>\n",
              "  <th>Model:</th>                   <td>OLS</td>       <th>  Adj. R-squared:    </th> <td>   0.901</td> \n",
              "</tr>\n",
              "<tr>\n",
              "  <th>Method:</th>             <td>Least Squares</td>  <th>  F-statistic:       </th> <td>   2213.</td> \n",
              "</tr>\n",
              "<tr>\n",
              "  <th>Date:</th>             <td>Thu, 30 Sep 2021</td> <th>  Prob (F-statistic):</th> <td>9.58e-124</td>\n",
              "</tr>\n",
              "<tr>\n",
              "  <th>Time:</th>                 <td>21:10:53</td>     <th>  Log-Likelihood:    </th> <td>  32.560</td> \n",
              "</tr>\n",
              "<tr>\n",
              "  <th>No. Observations:</th>      <td>   244</td>      <th>  AIC:               </th> <td>  -61.12</td> \n",
              "</tr>\n",
              "<tr>\n",
              "  <th>Df Residuals:</th>          <td>   242</td>      <th>  BIC:               </th> <td>  -54.13</td> \n",
              "</tr>\n",
              "<tr>\n",
              "  <th>Df Model:</th>              <td>     1</td>      <th>                     </th>     <td> </td>    \n",
              "</tr>\n",
              "<tr>\n",
              "  <th>Covariance Type:</th>      <td>nonrobust</td>    <th>                     </th>     <td> </td>    \n",
              "</tr>\n",
              "</table>\n",
              "<table class=\"simpletable\">\n",
              "<tr>\n",
              "          <td></td>            <th>coef</th>     <th>std err</th>      <th>t</th>      <th>P>|t|</th>  <th>[0.025</th>    <th>0.975]</th>  \n",
              "</tr>\n",
              "<tr>\n",
              "  <th>Intercept</th>        <td>   -3.6368</td> <td>    0.079</td> <td>  -46.328</td> <td> 0.000</td> <td>   -3.791</td> <td>   -3.482</td>\n",
              "</tr>\n",
              "<tr>\n",
              "  <th>np.log(net_bill)</th> <td>    1.3413</td> <td>    0.029</td> <td>   47.041</td> <td> 0.000</td> <td>    1.285</td> <td>    1.397</td>\n",
              "</tr>\n",
              "</table>\n",
              "<table class=\"simpletable\">\n",
              "<tr>\n",
              "  <th>Omnibus:</th>       <td>386.932</td> <th>  Durbin-Watson:     </th> <td>   2.036</td> \n",
              "</tr>\n",
              "<tr>\n",
              "  <th>Prob(Omnibus):</th> <td> 0.000</td>  <th>  Jarque-Bera (JB):  </th> <td>61921.160</td>\n",
              "</tr>\n",
              "<tr>\n",
              "  <th>Skew:</th>          <td>-7.955</td>  <th>  Prob(JB):          </th> <td>    0.00</td> \n",
              "</tr>\n",
              "<tr>\n",
              "  <th>Kurtosis:</th>      <td>79.404</td>  <th>  Cond. No.          </th> <td>    17.9</td> \n",
              "</tr>\n",
              "</table><br/><br/>Warnings:<br/>[1] Standard Errors assume that the covariance matrix of the errors is correctly specified."
            ],
            "text/plain": [
              "<class 'statsmodels.iolib.summary.Summary'>\n",
              "\"\"\"\n",
              "                            OLS Regression Results                            \n",
              "==============================================================================\n",
              "Dep. Variable:              tip_pct_x   R-squared:                       0.901\n",
              "Model:                            OLS   Adj. R-squared:                  0.901\n",
              "Method:                 Least Squares   F-statistic:                     2213.\n",
              "Date:                Thu, 30 Sep 2021   Prob (F-statistic):          9.58e-124\n",
              "Time:                        21:10:53   Log-Likelihood:                 32.560\n",
              "No. Observations:                 244   AIC:                            -61.12\n",
              "Df Residuals:                     242   BIC:                            -54.13\n",
              "Df Model:                           1                                         \n",
              "Covariance Type:            nonrobust                                         \n",
              "====================================================================================\n",
              "                       coef    std err          t      P>|t|      [0.025      0.975]\n",
              "------------------------------------------------------------------------------------\n",
              "Intercept           -3.6368      0.079    -46.328      0.000      -3.791      -3.482\n",
              "np.log(net_bill)     1.3413      0.029     47.041      0.000       1.285       1.397\n",
              "==============================================================================\n",
              "Omnibus:                      386.932   Durbin-Watson:                   2.036\n",
              "Prob(Omnibus):                  0.000   Jarque-Bera (JB):            61921.160\n",
              "Skew:                          -7.955   Prob(JB):                         0.00\n",
              "Kurtosis:                      79.404   Cond. No.                         17.9\n",
              "==============================================================================\n",
              "\n",
              "Warnings:\n",
              "[1] Standard Errors assume that the covariance matrix of the errors is correctly specified.\n",
              "\"\"\""
            ]
          },
          "metadata": {},
          "execution_count": 39
        }
      ]
    },
    {
      "cell_type": "code",
      "metadata": {
        "colab": {
          "base_uri": "https://localhost:8080/",
          "height": 297
        },
        "id": "uRupSCHWi2Dy",
        "outputId": "d2d08706-cfd9-4045-fe32-99e04e51df2b"
      },
      "source": [
        "tips['res'] = reg.resid\n",
        "\n",
        "\n",
        "sns.scatterplot(x = 'net_bill', y = 'res', data = tips, alpha = .75)\n",
        "plt.axhline(y=0, color='r', linestyle='--')"
      ],
      "execution_count": 40,
      "outputs": [
        {
          "output_type": "execute_result",
          "data": {
            "text/plain": [
              "<matplotlib.lines.Line2D at 0x7f51453ab890>"
            ]
          },
          "metadata": {},
          "execution_count": 40
        },
        {
          "output_type": "display_data",
          "data": {
            "image/png": "[encoded data removed]",
            "text/plain": [
              "<Figure size 432x288 with 1 Axes>"
            ]
          },
          "metadata": {
            "needs_background": "light"
          }
        }
      ]
    },
    {
      "cell_type": "markdown",
      "metadata": {
        "id": "C8iPgfTfPSZt"
      },
      "source": [
        "###  3. ajuste o modelo de ```tip_pct``` em função de um polinômio de segundo grau em ```net_bill```."
      ]
    },
    {
      "cell_type": "code",
      "metadata": {
        "colab": {
          "base_uri": "https://localhost:8080/",
          "height": 452
        },
        "id": "1tc48dGfPSZu",
        "outputId": "16daa316-086f-4964-d724-0d9e8b3c467a"
      },
      "source": [
        "reg = smf.ols('tip_pct_x ~ np.power(net_bill,2)', data=tips).fit()\n",
        "reg.summary()"
      ],
      "execution_count": 41,
      "outputs": [
        {
          "output_type": "execute_result",
          "data": {
            "text/html": [
              "<table class=\"simpletable\">\n",
              "<caption>OLS Regression Results</caption>\n",
              "<tr>\n",
              "  <th>Dep. Variable:</th>        <td>tip_pct_x</td>    <th>  R-squared:         </th> <td>   0.505</td>\n",
              "</tr>\n",
              "<tr>\n",
              "  <th>Model:</th>                   <td>OLS</td>       <th>  Adj. R-squared:    </th> <td>   0.503</td>\n",
              "</tr>\n",
              "<tr>\n",
              "  <th>Method:</th>             <td>Least Squares</td>  <th>  F-statistic:       </th> <td>   246.5</td>\n",
              "</tr>\n",
              "<tr>\n",
              "  <th>Date:</th>             <td>Thu, 30 Sep 2021</td> <th>  Prob (F-statistic):</th> <td>8.84e-39</td>\n",
              "</tr>\n",
              "<tr>\n",
              "  <th>Time:</th>                 <td>21:10:54</td>     <th>  Log-Likelihood:    </th> <td> -164.41</td>\n",
              "</tr>\n",
              "<tr>\n",
              "  <th>No. Observations:</th>      <td>   244</td>      <th>  AIC:               </th> <td>   332.8</td>\n",
              "</tr>\n",
              "<tr>\n",
              "  <th>Df Residuals:</th>          <td>   242</td>      <th>  BIC:               </th> <td>   339.8</td>\n",
              "</tr>\n",
              "<tr>\n",
              "  <th>Df Model:</th>              <td>     1</td>      <th>                     </th>     <td> </td>   \n",
              "</tr>\n",
              "<tr>\n",
              "  <th>Covariance Type:</th>      <td>nonrobust</td>    <th>                     </th>     <td> </td>   \n",
              "</tr>\n",
              "</table>\n",
              "<table class=\"simpletable\">\n",
              "<tr>\n",
              "            <td></td>               <th>coef</th>     <th>std err</th>      <th>t</th>      <th>P>|t|</th>  <th>[0.025</th>    <th>0.975]</th>  \n",
              "</tr>\n",
              "<tr>\n",
              "  <th>Intercept</th>             <td>   -0.4692</td> <td>    0.043</td> <td>  -10.986</td> <td> 0.000</td> <td>   -0.553</td> <td>   -0.385</td>\n",
              "</tr>\n",
              "<tr>\n",
              "  <th>np.power(net_bill, 2)</th> <td>    0.0014</td> <td> 8.64e-05</td> <td>   15.700</td> <td> 0.000</td> <td>    0.001</td> <td>    0.002</td>\n",
              "</tr>\n",
              "</table>\n",
              "<table class=\"simpletable\">\n",
              "<tr>\n",
              "  <th>Omnibus:</th>       <td>332.519</td> <th>  Durbin-Watson:     </th> <td>   2.115</td> \n",
              "</tr>\n",
              "<tr>\n",
              "  <th>Prob(Omnibus):</th> <td> 0.000</td>  <th>  Jarque-Bera (JB):  </th> <td>28831.303</td>\n",
              "</tr>\n",
              "<tr>\n",
              "  <th>Skew:</th>          <td>-6.205</td>  <th>  Prob(JB):          </th> <td>    0.00</td> \n",
              "</tr>\n",
              "<tr>\n",
              "  <th>Kurtosis:</th>      <td>54.787</td>  <th>  Cond. No.          </th> <td>    692.</td> \n",
              "</tr>\n",
              "</table><br/><br/>Warnings:<br/>[1] Standard Errors assume that the covariance matrix of the errors is correctly specified."
            ],
            "text/plain": [
              "<class 'statsmodels.iolib.summary.Summary'>\n",
              "\"\"\"\n",
              "                            OLS Regression Results                            \n",
              "==============================================================================\n",
              "Dep. Variable:              tip_pct_x   R-squared:                       0.505\n",
              "Model:                            OLS   Adj. R-squared:                  0.503\n",
              "Method:                 Least Squares   F-statistic:                     246.5\n",
              "Date:                Thu, 30 Sep 2021   Prob (F-statistic):           8.84e-39\n",
              "Time:                        21:10:54   Log-Likelihood:                -164.41\n",
              "No. Observations:                 244   AIC:                             332.8\n",
              "Df Residuals:                     242   BIC:                             339.8\n",
              "Df Model:                           1                                         \n",
              "Covariance Type:            nonrobust                                         \n",
              "=========================================================================================\n",
              "                            coef    std err          t      P>|t|      [0.025      0.975]\n",
              "-----------------------------------------------------------------------------------------\n",
              "Intercept                -0.4692      0.043    -10.986      0.000      -0.553      -0.385\n",
              "np.power(net_bill, 2)     0.0014   8.64e-05     15.700      0.000       0.001       0.002\n",
              "==============================================================================\n",
              "Omnibus:                      332.519   Durbin-Watson:                   2.115\n",
              "Prob(Omnibus):                  0.000   Jarque-Bera (JB):            28831.303\n",
              "Skew:                          -6.205   Prob(JB):                         0.00\n",
              "Kurtosis:                      54.787   Cond. No.                         692.\n",
              "==============================================================================\n",
              "\n",
              "Warnings:\n",
              "[1] Standard Errors assume that the covariance matrix of the errors is correctly specified.\n",
              "\"\"\""
            ]
          },
          "metadata": {},
          "execution_count": 41
        }
      ]
    },
    {
      "cell_type": "code",
      "metadata": {
        "colab": {
          "base_uri": "https://localhost:8080/",
          "height": 297
        },
        "id": "3FjzRRbgiygH",
        "outputId": "edb6ba11-af4c-4105-fbd2-b13adfa4a611"
      },
      "source": [
        "tips['res'] = reg.resid\n",
        "\n",
        "\n",
        "sns.scatterplot(x = 'net_bill', y = 'res', data = tips, alpha = .75)\n",
        "plt.axhline(y=0, color='r', linestyle='--')"
      ],
      "execution_count": 42,
      "outputs": [
        {
          "output_type": "execute_result",
          "data": {
            "text/plain": [
              "<matplotlib.lines.Line2D at 0x7f5145388050>"
            ]
          },
          "metadata": {},
          "execution_count": 42
        },
        {
          "output_type": "display_data",
          "data": {
            "image/png": "[encoded data removed]",
            "text/plain": [
              "<Figure size 432x288 with 1 Axes>"
            ]
          },
          "metadata": {
            "needs_background": "light"
          }
        }
      ]
    },
    {
      "cell_type": "markdown",
      "metadata": {
        "id": "mjVDweg7PSZu"
      },
      "source": [
        "###  4. ajuste um modelo no log do ```tip_pct``` em função de ```net_bill```. Calcule o $R^2$ também em ```tip_pct```"
      ]
    },
    {
      "cell_type": "code",
      "metadata": {
        "colab": {
          "base_uri": "https://localhost:8080/",
          "height": 486
        },
        "id": "9SXtkFYtPSZv",
        "outputId": "c64fd061-a703-4db3-dfee-5e7e22bf8758"
      },
      "source": [
        "reg1 = smf.ols('np.log(tip_pct_x) ~ net_bill', data=tips).fit()\n",
        "reg1.summary()"
      ],
      "execution_count": 43,
      "outputs": [
        {
          "output_type": "stream",
          "name": "stderr",
          "text": [
            "/usr/local/lib/python3.7/dist-packages/pandas/core/series.py:726: RuntimeWarning: invalid value encountered in log\n",
            "  result = getattr(ufunc, method)(*inputs, **kwargs)\n"
          ]
        },
        {
          "output_type": "execute_result",
          "data": {
            "text/html": [
              "<table class=\"simpletable\">\n",
              "<caption>OLS Regression Results</caption>\n",
              "<tr>\n",
              "  <th>Dep. Variable:</th>    <td>np.log(tip_pct_x)</td> <th>  R-squared:         </th> <td>   0.477</td>\n",
              "</tr>\n",
              "<tr>\n",
              "  <th>Model:</th>                   <td>OLS</td>        <th>  Adj. R-squared:    </th> <td>   0.473</td>\n",
              "</tr>\n",
              "<tr>\n",
              "  <th>Method:</th>             <td>Least Squares</td>   <th>  F-statistic:       </th> <td>   112.3</td>\n",
              "</tr>\n",
              "<tr>\n",
              "  <th>Date:</th>             <td>Thu, 30 Sep 2021</td>  <th>  Prob (F-statistic):</th> <td>4.87e-19</td>\n",
              "</tr>\n",
              "<tr>\n",
              "  <th>Time:</th>                 <td>21:10:54</td>      <th>  Log-Likelihood:    </th> <td> -180.15</td>\n",
              "</tr>\n",
              "<tr>\n",
              "  <th>No. Observations:</th>      <td>   125</td>       <th>  AIC:               </th> <td>   364.3</td>\n",
              "</tr>\n",
              "<tr>\n",
              "  <th>Df Residuals:</th>          <td>   123</td>       <th>  BIC:               </th> <td>   369.9</td>\n",
              "</tr>\n",
              "<tr>\n",
              "  <th>Df Model:</th>              <td>     1</td>       <th>                     </th>     <td> </td>   \n",
              "</tr>\n",
              "<tr>\n",
              "  <th>Covariance Type:</th>      <td>nonrobust</td>     <th>                     </th>     <td> </td>   \n",
              "</tr>\n",
              "</table>\n",
              "<table class=\"simpletable\">\n",
              "<tr>\n",
              "      <td></td>         <th>coef</th>     <th>std err</th>      <th>t</th>      <th>P>|t|</th>  <th>[0.025</th>    <th>0.975]</th>  \n",
              "</tr>\n",
              "<tr>\n",
              "  <th>Intercept</th> <td>   -4.3776</td> <td>    0.302</td> <td>  -14.485</td> <td> 0.000</td> <td>   -4.976</td> <td>   -3.779</td>\n",
              "</tr>\n",
              "<tr>\n",
              "  <th>net_bill</th>  <td>    0.1356</td> <td>    0.013</td> <td>   10.597</td> <td> 0.000</td> <td>    0.110</td> <td>    0.161</td>\n",
              "</tr>\n",
              "</table>\n",
              "<table class=\"simpletable\">\n",
              "<tr>\n",
              "  <th>Omnibus:</th>       <td>112.980</td> <th>  Durbin-Watson:     </th> <td>   2.335</td> \n",
              "</tr>\n",
              "<tr>\n",
              "  <th>Prob(Omnibus):</th> <td> 0.000</td>  <th>  Jarque-Bera (JB):  </th> <td>1152.407</td> \n",
              "</tr>\n",
              "<tr>\n",
              "  <th>Skew:</th>          <td>-3.210</td>  <th>  Prob(JB):          </th> <td>5.73e-251</td>\n",
              "</tr>\n",
              "<tr>\n",
              "  <th>Kurtosis:</th>      <td>16.418</td>  <th>  Cond. No.          </th> <td>    77.5</td> \n",
              "</tr>\n",
              "</table><br/><br/>Warnings:<br/>[1] Standard Errors assume that the covariance matrix of the errors is correctly specified."
            ],
            "text/plain": [
              "<class 'statsmodels.iolib.summary.Summary'>\n",
              "\"\"\"\n",
              "                            OLS Regression Results                            \n",
              "==============================================================================\n",
              "Dep. Variable:      np.log(tip_pct_x)   R-squared:                       0.477\n",
              "Model:                            OLS   Adj. R-squared:                  0.473\n",
              "Method:                 Least Squares   F-statistic:                     112.3\n",
              "Date:                Thu, 30 Sep 2021   Prob (F-statistic):           4.87e-19\n",
              "Time:                        21:10:54   Log-Likelihood:                -180.15\n",
              "No. Observations:                 125   AIC:                             364.3\n",
              "Df Residuals:                     123   BIC:                             369.9\n",
              "Df Model:                           1                                         \n",
              "Covariance Type:            nonrobust                                         \n",
              "==============================================================================\n",
              "                 coef    std err          t      P>|t|      [0.025      0.975]\n",
              "------------------------------------------------------------------------------\n",
              "Intercept     -4.3776      0.302    -14.485      0.000      -4.976      -3.779\n",
              "net_bill       0.1356      0.013     10.597      0.000       0.110       0.161\n",
              "==============================================================================\n",
              "Omnibus:                      112.980   Durbin-Watson:                   2.335\n",
              "Prob(Omnibus):                  0.000   Jarque-Bera (JB):             1152.407\n",
              "Skew:                          -3.210   Prob(JB):                    5.73e-251\n",
              "Kurtosis:                      16.418   Cond. No.                         77.5\n",
              "==============================================================================\n",
              "\n",
              "Warnings:\n",
              "[1] Standard Errors assume that the covariance matrix of the errors is correctly specified.\n",
              "\"\"\""
            ]
          },
          "metadata": {},
          "execution_count": 43
        }
      ]
    },
    {
      "cell_type": "code",
      "metadata": {
        "colab": {
          "base_uri": "https://localhost:8080/"
        },
        "id": "nQNj3MK3iEz6",
        "outputId": "bcc5dbf4-117f-4f18-e664-8dcfb407a8f4"
      },
      "source": [
        "tips['tip_pct_pred'] = reg1.fittedvalues\n",
        "r = tips[['tip_pct_pred','tip_pct']].corr().iloc[0,1]\n",
        "r**2"
      ],
      "execution_count": 44,
      "outputs": [
        {
          "output_type": "execute_result",
          "data": {
            "text/plain": [
              "0.13140449660223644"
            ]
          },
          "metadata": {},
          "execution_count": 44
        }
      ]
    },
    {
      "cell_type": "code",
      "metadata": {
        "colab": {
          "base_uri": "https://localhost:8080/",
          "height": 297
        },
        "id": "Fva_5GupisUT",
        "outputId": "fe0f289a-6d86-4c93-aa36-df6676da2b2e"
      },
      "source": [
        "tips['res'] = reg1.resid\n",
        "\n",
        "\n",
        "sns.scatterplot(x = 'net_bill', y = 'res', data = tips, alpha = .75)\n",
        "plt.axhline(y=0, color='r', linestyle='--')"
      ],
      "execution_count": 45,
      "outputs": [
        {
          "output_type": "execute_result",
          "data": {
            "text/plain": [
              "<matplotlib.lines.Line2D at 0x7f514de57cd0>"
            ]
          },
          "metadata": {},
          "execution_count": 45
        },
        {
          "output_type": "display_data",
          "data": {
            "image/png": "[encoded data removed]",
            "text/plain": [
              "<Figure size 432x288 with 1 Axes>"
            ]
          },
          "metadata": {
            "needs_background": "light"
          }
        }
      ]
    },
    {
      "cell_type": "markdown",
      "metadata": {
        "id": "qOKP33SQPSZv"
      },
      "source": [
        "###  5. ajuste um modelo no log do ```tip_pct``` em função do log de ```net_bill```. Calcule o $R^2$ também em ```tip_pct```."
      ]
    },
    {
      "cell_type": "code",
      "metadata": {
        "colab": {
          "base_uri": "https://localhost:8080/",
          "height": 452
        },
        "id": "IzJHYfp1PSZw",
        "outputId": "ff3d13c8-3f61-45b8-83ec-999f89d3cf64"
      },
      "source": [
        "reg = smf.ols('np.log(tip_pct) ~ np.log(net_bill)' , data=tips).fit()\n",
        "reg.summary()"
      ],
      "execution_count": 46,
      "outputs": [
        {
          "output_type": "execute_result",
          "data": {
            "text/html": [
              "<table class=\"simpletable\">\n",
              "<caption>OLS Regression Results</caption>\n",
              "<tr>\n",
              "  <th>Dep. Variable:</th>     <td>np.log(tip_pct)</td> <th>  R-squared:         </th> <td>   0.293</td>\n",
              "</tr>\n",
              "<tr>\n",
              "  <th>Model:</th>                   <td>OLS</td>       <th>  Adj. R-squared:    </th> <td>   0.291</td>\n",
              "</tr>\n",
              "<tr>\n",
              "  <th>Method:</th>             <td>Least Squares</td>  <th>  F-statistic:       </th> <td>   100.5</td>\n",
              "</tr>\n",
              "<tr>\n",
              "  <th>Date:</th>             <td>Thu, 30 Sep 2021</td> <th>  Prob (F-statistic):</th> <td>5.20e-20</td>\n",
              "</tr>\n",
              "<tr>\n",
              "  <th>Time:</th>                 <td>21:11:29</td>     <th>  Log-Likelihood:    </th> <td> -96.357</td>\n",
              "</tr>\n",
              "<tr>\n",
              "  <th>No. Observations:</th>      <td>   244</td>      <th>  AIC:               </th> <td>   196.7</td>\n",
              "</tr>\n",
              "<tr>\n",
              "  <th>Df Residuals:</th>          <td>   242</td>      <th>  BIC:               </th> <td>   203.7</td>\n",
              "</tr>\n",
              "<tr>\n",
              "  <th>Df Model:</th>              <td>     1</td>      <th>                     </th>     <td> </td>   \n",
              "</tr>\n",
              "<tr>\n",
              "  <th>Covariance Type:</th>      <td>nonrobust</td>    <th>                     </th>     <td> </td>   \n",
              "</tr>\n",
              "</table>\n",
              "<table class=\"simpletable\">\n",
              "<tr>\n",
              "          <td></td>            <th>coef</th>     <th>std err</th>      <th>t</th>      <th>P>|t|</th>  <th>[0.025</th>    <th>0.975]</th>  \n",
              "</tr>\n",
              "<tr>\n",
              "  <th>Intercept</th>        <td>   -0.3942</td> <td>    0.133</td> <td>   -2.961</td> <td> 0.003</td> <td>   -0.657</td> <td>   -0.132</td>\n",
              "</tr>\n",
              "<tr>\n",
              "  <th>np.log(net_bill)</th> <td>   -0.4849</td> <td>    0.048</td> <td>  -10.026</td> <td> 0.000</td> <td>   -0.580</td> <td>   -0.390</td>\n",
              "</tr>\n",
              "</table>\n",
              "<table class=\"simpletable\">\n",
              "<tr>\n",
              "  <th>Omnibus:</th>       <td>12.633</td> <th>  Durbin-Watson:     </th> <td>   1.976</td>\n",
              "</tr>\n",
              "<tr>\n",
              "  <th>Prob(Omnibus):</th> <td> 0.002</td> <th>  Jarque-Bera (JB):  </th> <td>  28.054</td>\n",
              "</tr>\n",
              "<tr>\n",
              "  <th>Skew:</th>          <td> 0.141</td> <th>  Prob(JB):          </th> <td>8.10e-07</td>\n",
              "</tr>\n",
              "<tr>\n",
              "  <th>Kurtosis:</th>      <td> 4.637</td> <th>  Cond. No.          </th> <td>    17.9</td>\n",
              "</tr>\n",
              "</table><br/><br/>Warnings:<br/>[1] Standard Errors assume that the covariance matrix of the errors is correctly specified."
            ],
            "text/plain": [
              "<class 'statsmodels.iolib.summary.Summary'>\n",
              "\"\"\"\n",
              "                            OLS Regression Results                            \n",
              "==============================================================================\n",
              "Dep. Variable:        np.log(tip_pct)   R-squared:                       0.293\n",
              "Model:                            OLS   Adj. R-squared:                  0.291\n",
              "Method:                 Least Squares   F-statistic:                     100.5\n",
              "Date:                Thu, 30 Sep 2021   Prob (F-statistic):           5.20e-20\n",
              "Time:                        21:11:29   Log-Likelihood:                -96.357\n",
              "No. Observations:                 244   AIC:                             196.7\n",
              "Df Residuals:                     242   BIC:                             203.7\n",
              "Df Model:                           1                                         \n",
              "Covariance Type:            nonrobust                                         \n",
              "====================================================================================\n",
              "                       coef    std err          t      P>|t|      [0.025      0.975]\n",
              "------------------------------------------------------------------------------------\n",
              "Intercept           -0.3942      0.133     -2.961      0.003      -0.657      -0.132\n",
              "np.log(net_bill)    -0.4849      0.048    -10.026      0.000      -0.580      -0.390\n",
              "==============================================================================\n",
              "Omnibus:                       12.633   Durbin-Watson:                   1.976\n",
              "Prob(Omnibus):                  0.002   Jarque-Bera (JB):               28.054\n",
              "Skew:                           0.141   Prob(JB):                     8.10e-07\n",
              "Kurtosis:                       4.637   Cond. No.                         17.9\n",
              "==============================================================================\n",
              "\n",
              "Warnings:\n",
              "[1] Standard Errors assume that the covariance matrix of the errors is correctly specified.\n",
              "\"\"\""
            ]
          },
          "metadata": {},
          "execution_count": 46
        }
      ]
    },
    {
      "cell_type": "code",
      "metadata": {
        "colab": {
          "base_uri": "https://localhost:8080/",
          "height": 297
        },
        "id": "dA7x7BNHjGGz",
        "outputId": "5aef4573-f1dc-4639-9d82-b0a9677c6384"
      },
      "source": [
        "tips['res'] = reg.resid\n",
        "\n",
        "\n",
        "sns.scatterplot(x = 'net_bill', y = 'res', data = tips, alpha = .75)\n",
        "plt.axhline(y=0, color='r', linestyle='--')"
      ],
      "execution_count": 47,
      "outputs": [
        {
          "output_type": "execute_result",
          "data": {
            "text/plain": [
              "<matplotlib.lines.Line2D at 0x7f5145292190>"
            ]
          },
          "metadata": {},
          "execution_count": 47
        },
        {
          "output_type": "display_data",
          "data": {
            "image/png": "[encoded data removed]",
            "text/plain": [
              "<Figure size 432x288 with 1 Axes>"
            ]
          },
          "metadata": {
            "needs_background": "light"
          }
        }
      ]
    },
    {
      "cell_type": "markdown",
      "metadata": {
        "id": "85inzOGzPSZw"
      },
      "source": [
        "###  6. qual modelo resultou no melhor ajuste?"
      ]
    },
    {
      "cell_type": "markdown",
      "metadata": {
        "id": "1xg8F4CBjNxX"
      },
      "source": [
        "## O modelo no log do tip_pct em função do log de net_bill foi o melhor modelo com base na analise dos residuos."
      ]
    }
  ]
}